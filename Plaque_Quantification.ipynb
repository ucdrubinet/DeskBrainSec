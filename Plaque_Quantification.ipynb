{
 "cells": [
  {
   "cell_type": "markdown",
   "metadata": {},
   "source": [
    "### 3 Visualization - Prediction Confidence Heatmaps\n",
    "\n",
    "A sliding window approach was applied on the whole slide images (WSIs) with the trained CNN model to generate confidence heatmaps. \n",
    "\n",
    "The WSIs were tiled into 1536 x 1536 images patches in the prepocessing steps. A sliding window approached was applied on evey image patch of a WSI. At each time, the CNN model took a 256x256 pixels region as input, forward propagated and generated a prediction score for cored plaque, diffuse plaque and CAA respectively. By systematically sliding the input region across the entire 1536 x 1536 image patch, the prediction scores were saved and ploted as prediction confidence heatmap for this patch. The heatmap for the WSI was obtained by doing this on all image patches of it."
   ]
  },
  {
   "cell_type": "markdown",
   "metadata": {},
   "source": [
    "### 1) Pre-Processing for Inference\n",
    "\n",
    "Reinhard Normalization was applied to the WSI, followed by tiling into 1536 x 1536 images."
   ]
  },
  {
   "cell_type": "code",
   "execution_count": 1,
   "metadata": {},
   "outputs": [],
   "source": [
    "import os\n",
    "import glob\n",
    "import numpy as np\n",
    "import cv2\n",
    "import matplotlib.pyplot as plt\n",
    "import pyvips as Vips\n",
    "from tqdm import tqdm\n",
    "\n",
    "from utils import vips_utils, normalize"
   ]
  },
  {
   "cell_type": "code",
   "execution_count": 11,
   "metadata": {},
   "outputs": [],
   "source": [
    "# Directories\n",
    "ODR = 'data_1_40'\n",
    "WSI_DIR = 'data_1_40/wsi/'\n",
    "SAVE_DIR = 'data_1_40/norm_tiles/'"
   ]
  },
  {
   "cell_type": "code",
   "execution_count": 3,
   "metadata": {},
   "outputs": [],
   "source": [
    "if not os.path.exists(SAVE_DIR):\n",
    "        os.makedirs(SAVE_DIR)"
   ]
  },
  {
   "cell_type": "code",
   "execution_count": 4,
   "metadata": {},
   "outputs": [],
   "source": [
    "ref_imagename = 'NA4900-02_AB01-40.svs'"
   ]
  },
  {
   "cell_type": "code",
   "execution_count": 5,
   "metadata": {},
   "outputs": [
    {
     "name": "stdout",
     "output_type": "stream",
     "text": [
      "['NA4900-02_AB01-40.svs', 'NA4903-02_AB01-40.svs', 'NA4905-02_AB01-40.svs', 'NA4906-02_AB01-40.svs', 'NA4907-02_AB01-40.svs', 'NA4908-02_AB01-40.svs', 'NA4909-02_AB01-40.svs', 'NA4910-02_AB01-40.svs', 'NA4912-02_AB01-40.svs', 'NA4913-02_AB01-40.svs', 'NA4914-02_AB01-40.svs', 'NA4915-02_AB01-40.svs', 'NA4916-02_AB01-40.svs', 'NA4917-02_AB01-40.svs', 'NA4919-02_AB01-40.svs', 'NA4920-02_AB01-40.svs', 'NA4921-02_AB01-40.svs', 'NA4922-02_AB01-40.svs', 'NA4923-02_AB01-40.svs', 'NA4924-02_AB01-40.svs', 'NA4925-02_AB01-40.svs', 'NA4926-02_AB01-40.svs', 'NA4927-02_AB01-40.svs', 'NA4928-02_AB01-40.svs']\n"
     ]
    }
   ],
   "source": [
    "wsi_slides = os.listdir(WSI_DIR)\n",
    "imagenames = sorted(wsi_slides)\n",
    "print(imagenames)"
   ]
  },
  {
   "cell_type": "code",
   "execution_count": 6,
   "metadata": {},
   "outputs": [
    {
     "name": "stdout",
     "output_type": "stream",
     "text": [
      "['NA4900-02_AB01-40', 'NA4903-02_AB01-40', 'NA4905-02_AB01-40', 'NA4906-02_AB01-40', 'NA4907-02_AB01-40', 'NA4908-02_AB01-40', 'NA4909-02_AB01-40', 'NA4910-02_AB01-40', 'NA4912-02_AB01-40', 'NA4913-02_AB01-40', 'NA4914-02_AB01-40', 'NA4915-02_AB01-40', 'NA4916-02_AB01-40', 'NA4917-02_AB01-40', 'NA4919-02_AB01-40', 'NA4920-02_AB01-40', 'NA4921-02_AB01-40', 'NA4922-02_AB01-40', 'NA4923-02_AB01-40', 'NA4924-02_AB01-40', 'NA4925-02_AB01-40', 'NA4926-02_AB01-40', 'NA4927-02_AB01-40', 'NA4928-02_AB01-40']\n"
     ]
    }
   ],
   "source": [
    "print([os.path.splitext(img)[0] for img in imagenames])"
   ]
  },
  {
   "cell_type": "code",
   "execution_count": 7,
   "metadata": {},
   "outputs": [
    {
     "name": "stdout",
     "output_type": "stream",
     "text": [
      "CPU times: user 1h 17min 40s, sys: 44.9 s, total: 1h 18min 25s\n",
      "Wall time: 3min 59s\n"
     ]
    }
   ],
   "source": [
    "%%time\n",
    "# Load reference image, fit Reinhard normalizer\n",
    "ref_image = Vips.Image.new_from_file(WSI_DIR + ref_imagename, level=0)\n",
    "\n",
    "normalizer = normalize.Reinhard()\n",
    "normalizer.fit(ref_image)"
   ]
  },
  {
   "cell_type": "code",
   "execution_count": 8,
   "metadata": {
    "scrolled": true
   },
   "outputs": [
    {
     "name": "stderr",
     "output_type": "stream",
     "text": [
      "\r\n",
      "  0%|          | 0/24 [00:00<?, ?it/s]"
     ]
    },
    {
     "name": "stdout",
     "output_type": "stream",
     "text": [
      "Loaded Image: data_1_40/wsi/NA4900-02_AB01-40.svs\n",
      "data_1_40/norm_tiles/NA4900-02_AB01-40\n"
     ]
    },
    {
     "name": "stderr",
     "output_type": "stream",
     "text": [
      "\r\n",
      "  4%|▍         | 1/24 [00:53<20:35, 53.73s/it]"
     ]
    },
    {
     "name": "stdout",
     "output_type": "stream",
     "text": [
      "Loaded Image: data_1_40/wsi/NA4903-02_AB01-40.svs\n",
      "data_1_40/norm_tiles/NA4903-02_AB01-40\n"
     ]
    },
    {
     "name": "stderr",
     "output_type": "stream",
     "text": [
      "\r\n",
      "  8%|▊         | 2/24 [05:33<1:08:25, 186.59s/it]"
     ]
    },
    {
     "name": "stdout",
     "output_type": "stream",
     "text": [
      "Loaded Image: data_1_40/wsi/NA4905-02_AB01-40.svs\n",
      "data_1_40/norm_tiles/NA4905-02_AB01-40\n"
     ]
    },
    {
     "name": "stderr",
     "output_type": "stream",
     "text": [
      "\r\n",
      " 12%|█▎        | 3/24 [09:29<1:13:14, 209.26s/it]"
     ]
    },
    {
     "name": "stdout",
     "output_type": "stream",
     "text": [
      "Loaded Image: data_1_40/wsi/NA4906-02_AB01-40.svs\n",
      "data_1_40/norm_tiles/NA4906-02_AB01-40\n"
     ]
    },
    {
     "name": "stderr",
     "output_type": "stream",
     "text": [
      "\r\n",
      " 17%|█▋        | 4/24 [15:02<1:25:59, 257.97s/it]"
     ]
    },
    {
     "name": "stdout",
     "output_type": "stream",
     "text": [
      "Loaded Image: data_1_40/wsi/NA4907-02_AB01-40.svs\n",
      "data_1_40/norm_tiles/NA4907-02_AB01-40\n"
     ]
    },
    {
     "name": "stderr",
     "output_type": "stream",
     "text": [
      "\r\n",
      " 21%|██        | 5/24 [19:18<1:21:32, 257.50s/it]"
     ]
    },
    {
     "name": "stdout",
     "output_type": "stream",
     "text": [
      "Loaded Image: data_1_40/wsi/NA4908-02_AB01-40.svs\n",
      "data_1_40/norm_tiles/NA4908-02_AB01-40\n"
     ]
    },
    {
     "name": "stderr",
     "output_type": "stream",
     "text": [
      "\r\n",
      " 25%|██▌       | 6/24 [22:09<1:08:21, 227.85s/it]"
     ]
    },
    {
     "name": "stdout",
     "output_type": "stream",
     "text": [
      "Loaded Image: data_1_40/wsi/NA4909-02_AB01-40.svs\n",
      "data_1_40/norm_tiles/NA4909-02_AB01-40\n"
     ]
    },
    {
     "name": "stderr",
     "output_type": "stream",
     "text": [
      "\r\n",
      " 29%|██▉       | 7/24 [26:51<1:09:38, 245.81s/it]"
     ]
    },
    {
     "name": "stdout",
     "output_type": "stream",
     "text": [
      "Loaded Image: data_1_40/wsi/NA4910-02_AB01-40.svs\n",
      "data_1_40/norm_tiles/NA4910-02_AB01-40\n"
     ]
    },
    {
     "name": "stderr",
     "output_type": "stream",
     "text": [
      "\r\n",
      " 33%|███▎      | 8/24 [29:46<59:31, 223.20s/it]  "
     ]
    },
    {
     "name": "stdout",
     "output_type": "stream",
     "text": [
      "Loaded Image: data_1_40/wsi/NA4912-02_AB01-40.svs\n",
      "data_1_40/norm_tiles/NA4912-02_AB01-40\n"
     ]
    },
    {
     "name": "stderr",
     "output_type": "stream",
     "text": [
      "\r\n",
      " 38%|███▊      | 9/24 [33:09<54:11, 216.77s/it]"
     ]
    },
    {
     "name": "stdout",
     "output_type": "stream",
     "text": [
      "Loaded Image: data_1_40/wsi/NA4913-02_AB01-40.svs\n",
      "data_1_40/norm_tiles/NA4913-02_AB01-40\n"
     ]
    },
    {
     "name": "stderr",
     "output_type": "stream",
     "text": [
      "\r\n",
      " 42%|████▏     | 10/24 [34:44<41:48, 179.19s/it]"
     ]
    },
    {
     "name": "stdout",
     "output_type": "stream",
     "text": [
      "Loaded Image: data_1_40/wsi/NA4914-02_AB01-40.svs\n",
      "data_1_40/norm_tiles/NA4914-02_AB01-40\n"
     ]
    },
    {
     "name": "stderr",
     "output_type": "stream",
     "text": [
      "\r\n",
      " 46%|████▌     | 11/24 [38:20<41:14, 190.35s/it]"
     ]
    },
    {
     "name": "stdout",
     "output_type": "stream",
     "text": [
      "Loaded Image: data_1_40/wsi/NA4915-02_AB01-40.svs\n",
      "data_1_40/norm_tiles/NA4915-02_AB01-40\n"
     ]
    },
    {
     "name": "stderr",
     "output_type": "stream",
     "text": [
      "\r\n",
      " 50%|█████     | 12/24 [41:45<38:57, 194.81s/it]"
     ]
    },
    {
     "name": "stdout",
     "output_type": "stream",
     "text": [
      "Loaded Image: data_1_40/wsi/NA4916-02_AB01-40.svs\n",
      "data_1_40/norm_tiles/NA4916-02_AB01-40\n"
     ]
    },
    {
     "name": "stderr",
     "output_type": "stream",
     "text": [
      "\r\n",
      " 54%|█████▍    | 13/24 [44:09<32:54, 179.53s/it]"
     ]
    },
    {
     "name": "stdout",
     "output_type": "stream",
     "text": [
      "Loaded Image: data_1_40/wsi/NA4917-02_AB01-40.svs\n",
      "data_1_40/norm_tiles/NA4917-02_AB01-40\n"
     ]
    },
    {
     "name": "stderr",
     "output_type": "stream",
     "text": [
      "\r\n",
      " 58%|█████▊    | 14/24 [47:57<32:21, 194.13s/it]"
     ]
    },
    {
     "name": "stdout",
     "output_type": "stream",
     "text": [
      "Loaded Image: data_1_40/wsi/NA4919-02_AB01-40.svs\n",
      "data_1_40/norm_tiles/NA4919-02_AB01-40\n"
     ]
    },
    {
     "name": "stderr",
     "output_type": "stream",
     "text": [
      "\r\n",
      " 62%|██████▎   | 15/24 [51:05<28:50, 192.33s/it]"
     ]
    },
    {
     "name": "stdout",
     "output_type": "stream",
     "text": [
      "Loaded Image: data_1_40/wsi/NA4920-02_AB01-40.svs\n",
      "data_1_40/norm_tiles/NA4920-02_AB01-40\n"
     ]
    },
    {
     "name": "stderr",
     "output_type": "stream",
     "text": [
      "\r\n",
      " 67%|██████▋   | 16/24 [54:41<26:36, 199.57s/it]"
     ]
    },
    {
     "name": "stdout",
     "output_type": "stream",
     "text": [
      "Loaded Image: data_1_40/wsi/NA4921-02_AB01-40.svs\n",
      "data_1_40/norm_tiles/NA4921-02_AB01-40\n"
     ]
    },
    {
     "name": "stderr",
     "output_type": "stream",
     "text": [
      "\r\n",
      " 71%|███████   | 17/24 [58:10<23:36, 202.29s/it]"
     ]
    },
    {
     "name": "stdout",
     "output_type": "stream",
     "text": [
      "Loaded Image: data_1_40/wsi/NA4922-02_AB01-40.svs\n",
      "data_1_40/norm_tiles/NA4922-02_AB01-40\n"
     ]
    },
    {
     "name": "stderr",
     "output_type": "stream",
     "text": [
      "\r\n",
      " 75%|███████▌  | 18/24 [1:02:34<22:04, 220.83s/it]"
     ]
    },
    {
     "name": "stdout",
     "output_type": "stream",
     "text": [
      "Loaded Image: data_1_40/wsi/NA4923-02_AB01-40.svs\n",
      "data_1_40/norm_tiles/NA4923-02_AB01-40\n"
     ]
    },
    {
     "name": "stderr",
     "output_type": "stream",
     "text": [
      "\r\n",
      " 79%|███████▉  | 19/24 [1:05:57<17:56, 215.40s/it]"
     ]
    },
    {
     "name": "stdout",
     "output_type": "stream",
     "text": [
      "Loaded Image: data_1_40/wsi/NA4924-02_AB01-40.svs\n",
      "data_1_40/norm_tiles/NA4924-02_AB01-40\n"
     ]
    },
    {
     "name": "stderr",
     "output_type": "stream",
     "text": [
      "\r\n",
      " 83%|████████▎ | 20/24 [1:09:25<14:13, 213.33s/it]"
     ]
    },
    {
     "name": "stdout",
     "output_type": "stream",
     "text": [
      "Loaded Image: data_1_40/wsi/NA4925-02_AB01-40.svs\n",
      "data_1_40/norm_tiles/NA4925-02_AB01-40\n"
     ]
    },
    {
     "name": "stderr",
     "output_type": "stream",
     "text": [
      "\r\n",
      " 88%|████████▊ | 21/24 [1:12:06<09:52, 197.53s/it]"
     ]
    },
    {
     "name": "stdout",
     "output_type": "stream",
     "text": [
      "Loaded Image: data_1_40/wsi/NA4926-02_AB01-40.svs\n",
      "data_1_40/norm_tiles/NA4926-02_AB01-40\n"
     ]
    },
    {
     "name": "stderr",
     "output_type": "stream",
     "text": [
      "\r\n",
      " 92%|█████████▏| 22/24 [1:15:11<06:27, 193.93s/it]"
     ]
    },
    {
     "name": "stdout",
     "output_type": "stream",
     "text": [
      "Loaded Image: data_1_40/wsi/NA4927-02_AB01-40.svs\n",
      "data_1_40/norm_tiles/NA4927-02_AB01-40\n"
     ]
    },
    {
     "name": "stderr",
     "output_type": "stream",
     "text": [
      "\r\n",
      " 96%|█████████▌| 23/24 [1:18:33<03:16, 196.25s/it]"
     ]
    },
    {
     "name": "stdout",
     "output_type": "stream",
     "text": [
      "Loaded Image: data_1_40/wsi/NA4928-02_AB01-40.svs\n",
      "data_1_40/norm_tiles/NA4928-02_AB01-40\n"
     ]
    },
    {
     "name": "stderr",
     "output_type": "stream",
     "text": [
      "100%|██████████| 24/24 [1:23:03<00:00, 207.63s/it]\n"
     ]
    }
   ],
   "source": [
    "# Perform Preprocessing: Reinhard Normalization\n",
    "stats_dict = {}\n",
    "for imagename in tqdm(imagenames[:]):\n",
    "    \n",
    "    vips_img = Vips.Image.new_from_file(WSI_DIR + imagename, level=0)\n",
    "    print(\"Loaded Image: \" + WSI_DIR + imagename)\n",
    "    \n",
    "    out = normalizer.transform(vips_img)\n",
    "#     out.filename = vips_img.filename\n",
    "    vips_utils.save_and_tile(out, os.path.splitext(imagename)[0] \\\n",
    "                             , SAVE_DIR)\n",
    "    stats_dict[imagename] = normalizer.image_stats"
   ]
  },
  {
   "cell_type": "code",
   "execution_count": 9,
   "metadata": {},
   "outputs": [
    {
     "name": "stdout",
     "output_type": "stream",
     "text": [
      "                                                                   means  \\\n",
      "NA4900-02_AB01-40.svs  (86.19208949653284, 3.037628765876979, -5.7314...   \n",
      "NA4903-02_AB01-40.svs  (83.48459311950427, 3.5968172555155573, -5.841...   \n",
      "NA4905-02_AB01-40.svs  (89.0627823864449, 2.123235936584412, -3.92382...   \n",
      "NA4906-02_AB01-40.svs  (88.09073775969718, 2.3727242725283806, -4.489...   \n",
      "NA4907-02_AB01-40.svs  (90.11743350265318, 1.6753269301848999, -3.151...   \n",
      "NA4908-02_AB01-40.svs  (86.66440396614088, 2.900725792513534, -5.5390...   \n",
      "NA4909-02_AB01-40.svs  (86.036227911567, 3.3451627103541113, -6.25872...   \n",
      "NA4910-02_AB01-40.svs  (88.7753709870554, 2.2260331436763585, -4.2228...   \n",
      "NA4912-02_AB01-40.svs  (88.90154662614215, 2.184748709140592, -4.2550...   \n",
      "NA4913-02_AB01-40.svs  (88.51076659146226, 2.3184741541494533, -4.389...   \n",
      "NA4914-02_AB01-40.svs  (88.47968270045152, 2.364847988031738, -4.4851...   \n",
      "NA4915-02_AB01-40.svs  (88.86730779767325, 1.986233395125225, -3.8197...   \n",
      "NA4916-02_AB01-40.svs  (86.5739280747555, 2.9884528187862207, -5.1967...   \n",
      "NA4917-02_AB01-40.svs  (87.57777004632284, 2.717278433381371, -4.9636...   \n",
      "NA4919-02_AB01-40.svs  (88.30862249480468, 2.457926897235079, -4.7498...   \n",
      "NA4920-02_AB01-40.svs  (88.71928282811182, 2.0383725645783386, -4.222...   \n",
      "NA4921-02_AB01-40.svs  (89.21823949448556, 2.0711257516593227, -4.188...   \n",
      "NA4922-02_AB01-40.svs  (87.50396576135587, 2.5849504332473954, -5.056...   \n",
      "NA4923-02_AB01-40.svs  (88.30544399503634, 2.1811011594811607, -4.566...   \n",
      "NA4924-02_AB01-40.svs  (89.92121306291914, 1.7015731929778757, -3.555...   \n",
      "NA4925-02_AB01-40.svs  (89.34334542288519, 1.9536861379512231, -4.037...   \n",
      "NA4926-02_AB01-40.svs  (88.18599096022433, 2.45222021538051, -4.77361...   \n",
      "NA4927-02_AB01-40.svs  (84.99846616112157, 3.5126221064061847, -6.791...   \n",
      "NA4928-02_AB01-40.svs  (85.01937220940457, 3.6307309261265917, -6.746...   \n",
      "\n",
      "                                                                    stds  \n",
      "NA4900-02_AB01-40.svs  (11.800801164470375, 3.9924329979289155, 6.783...  \n",
      "NA4903-02_AB01-40.svs  (12.608709301289453, 4.245152221401241, 7.1951...  \n",
      "NA4905-02_AB01-40.svs  (10.438112770404917, 3.5451069732565434, 5.847...  \n",
      "NA4906-02_AB01-40.svs  (9.826100466209619, 3.462682494458798, 5.81714...  \n",
      "NA4907-02_AB01-40.svs  (8.860509572619204, 3.044883181827276, 4.91492...  \n",
      "NA4908-02_AB01-40.svs  (10.602487259545333, 3.4529022063013164, 6.273...  \n",
      "NA4909-02_AB01-40.svs  (11.554442837382542, 4.164256033932584, 7.0455...  \n",
      "NA4910-02_AB01-40.svs  (10.065768670096064, 3.5656606124663432, 6.018...  \n",
      "NA4912-02_AB01-40.svs  (10.224304889529046, 3.4741117855506514, 5.973...  \n",
      "NA4913-02_AB01-40.svs  (9.767153968969701, 3.5078988791664556, 5.6898...  \n",
      "NA4914-02_AB01-40.svs  (9.410264120171819, 3.479913395430157, 5.68027...  \n",
      "NA4915-02_AB01-40.svs  (9.391191691071048, 3.258819350572518, 5.37975...  \n",
      "NA4916-02_AB01-40.svs  (11.727803225328952, 4.207728759206925, 6.5434...  \n",
      "NA4917-02_AB01-40.svs  (10.678382753710256, 3.7908524168310516, 6.208...  \n",
      "NA4919-02_AB01-40.svs  (9.492618634416223, 3.558754896258104, 5.86891...  \n",
      "NA4920-02_AB01-40.svs  (8.578312927427456, 3.055855537748019, 5.06388...  \n",
      "NA4921-02_AB01-40.svs  (8.964603794966218, 3.259052017280644, 5.38124...  \n",
      "NA4922-02_AB01-40.svs  (9.995134384515342, 3.6051491946937286, 5.8857...  \n",
      "NA4923-02_AB01-40.svs  (9.978799386774998, 3.5129204285332882, 5.7631...  \n",
      "NA4924-02_AB01-40.svs  (9.985647107802645, 3.3097355852541472, 5.6585...  \n",
      "NA4925-02_AB01-40.svs  (9.795914830991089, 3.3376761535929855, 5.7675...  \n",
      "NA4926-02_AB01-40.svs  (11.029937700673184, 3.724017565517995, 6.4579...  \n",
      "NA4927-02_AB01-40.svs  (11.487329001545927, 4.187503184229108, 7.1123...  \n",
      "NA4928-02_AB01-40.svs  (12.37708087753391, 4.417790440177661, 7.57314...  \n"
     ]
    }
   ],
   "source": [
    "# Some Statistics about WSI Slide\n",
    "import pandas as pd\n",
    "stats = pd.DataFrame(stats_dict)\n",
    "stats = stats.transpose()\n",
    "stats.columns = 'means', 'stds'\n",
    "print(stats)"
   ]
  },
  {
   "cell_type": "markdown",
   "metadata": {},
   "source": [
    "### 2) Main Pipeline for Inference\n",
    "\n",
    "Estimation time per WSI slide: 4.5 hrs on Titan XP"
   ]
  },
  {
   "cell_type": "code",
   "execution_count": 4,
   "metadata": {},
   "outputs": [
    {
     "name": "stdout",
     "output_type": "stream",
     "text": [
      "1.4.0 0.5.0\n"
     ]
    }
   ],
   "source": [
    "import time, os, glob\n",
    "\n",
    "import torch\n",
    "torch.manual_seed(123456789)\n",
    "import torch.nn as nn\n",
    "from torch.autograd import Variable\n",
    "import torch.nn.functional as F\n",
    "import torchvision\n",
    "from torchvision import transforms\n",
    "\n",
    "import numpy as np\n",
    "import matplotlib.pyplot as plt\n",
    "from mpl_toolkits.axes_grid1 import make_axes_locatable\n",
    "from PIL import Image\n",
    "from tqdm import tqdm\n",
    "import copy\n",
    "\n",
    "print(torch.__version__, torchvision.__version__)"
   ]
  },
  {
   "cell_type": "code",
   "execution_count": 5,
   "metadata": {},
   "outputs": [],
   "source": [
    "IMG_DIR  = 'data_1_40/norm_tiles/'\n",
    "\n",
    "# Plaque Detection\n",
    "MODEL_PLAQ_DIR = 'models/CNN_model_parameters.pkl'\n",
    "SAVE_PLAQ_DIR = 'data_1_40/outputs/heatmaps/'\n",
    "\n",
    "# Brainseg\n",
    "MODEL_SEG_DIR = 'models/ResNet18_19.pkl'\n",
    "SAVE_IMG_DIR = 'data_1_40/brainseg/images/'\n",
    "SAVE_NP_DIR = 'data_1_40/brainseg/numpy/'"
   ]
  },
  {
   "cell_type": "code",
   "execution_count": 6,
   "metadata": {},
   "outputs": [],
   "source": [
    "if not os.path.exists(SAVE_PLAQ_DIR):\n",
    "        os.makedirs(SAVE_PLAQ_DIR)\n",
    "        \n",
    "if not os.path.exists(SAVE_IMG_DIR):\n",
    "        os.makedirs(SAVE_IMG_DIR)\n",
    "        \n",
    "if not os.path.exists(SAVE_NP_DIR):\n",
    "        os.makedirs(SAVE_NP_DIR)"
   ]
  },
  {
   "cell_type": "code",
   "execution_count": 10,
   "metadata": {},
   "outputs": [
    {
     "name": "stdout",
     "output_type": "stream",
     "text": [
      "['NA4900-02_AB01-40', 'NA4903-02_AB01-40', 'NA4905-02_AB01-40', 'NA4906-02_AB01-40', 'NA4907-02_AB01-40', 'NA4908-02_AB01-40', 'NA4909-02_AB01-40', 'NA4910-02_AB01-40', 'NA4912-02_AB01-40', 'NA4913-02_AB01-40', 'NA4914-02_AB01-40', 'NA4915-02_AB01-40', 'NA4916-02_AB01-40', 'NA4917-02_AB01-40', 'NA4919-02_AB01-40', 'NA4920-02_AB01-40', 'NA4921-02_AB01-40', 'NA4922-02_AB01-40', 'NA4923-02_AB01-40', 'NA4924-02_AB01-40', 'NA4925-02_AB01-40', 'NA4926-02_AB01-40', 'NA4927-02_AB01-40', 'NA4928-02_AB01-40']\n"
     ]
    }
   ],
   "source": [
    "img_size = 1536\n",
    "stride = 16\n",
    "batch_size = 96 \n",
    "num_workers = 16\n",
    "# Note: BrainSeg can only work in \n",
    "# batch_size of 1, 8, 16, 32, 96\n",
    "# in the way it is coded (not 64)\n",
    "# To check: (96/batch_size) == int\n",
    "\n",
    "# The values between Plaquebox & Brainseg are about the same\n",
    "# norm = np.load('utils/normalization.npy', allow_pickle=True).item() # plaquebox\n",
    "# normalize = transforms.Normalize(norm['mean'], norm['std'])\n",
    "# print(normalize)\n",
    "norm = np.load('norm_brainseg/normalization.npy', allow_pickle=True).item() # brainseg\n",
    "normalize = transforms.Normalize(norm['mean'], norm['std'])\n",
    "# print(normalize)\n",
    "\n",
    "to_tensor = transforms.ToTensor()\n",
    "\n",
    "# Retrieve Files\n",
    "filenames = glob.glob(IMG_DIR + '*')\n",
    "filenames = [filename.split('/')[-1] for filename in filenames]\n",
    "filenames = sorted(filenames)\n",
    "print(filenames)"
   ]
  },
  {
   "cell_type": "code",
   "execution_count": 11,
   "metadata": {},
   "outputs": [],
   "source": [
    "from torch.utils.data import Dataset\n",
    "\n",
    "class HeatmapDataset(Dataset):\n",
    "    def __init__(self, tile_dir, row, col, stride=1):\n",
    "        \"\"\"\n",
    "        Args:\n",
    "            tile_dir (string): path to the folder where tiles are\n",
    "            row (int): row index of the tile being operated\n",
    "            col (int): column index of the tile being operated\n",
    "            stride: stride of sliding \n",
    "        \"\"\"\n",
    "        self.tile_size = 256\n",
    "        self.img_size = 1536\n",
    "        self.stride = stride\n",
    "        padding = 128\n",
    "        large_img = torch.ones(3, 3*self.img_size, 3*self.img_size)\n",
    "        \n",
    "        for i in [-1,0,1]:\n",
    "            for j in [-1,0,1]:\n",
    "                img_path = tile_dir+'/'+str(row+i)+'/'+str(col+j)+'.jpg'\n",
    "                try:\n",
    "                    img = Image.open(img_path)\n",
    "                    img = transforms.ToTensor()(img) \n",
    "                except:\n",
    "                    img = torch.ones(3,self.img_size, self.img_size)\n",
    "                \n",
    "                large_img[:, (i+1)*self.img_size:(i+2)*self.img_size,(j+1)*self.img_size:(j+2)*self.img_size] = img\n",
    "        \n",
    "        large_img = normalize(large_img)\n",
    "        \n",
    "        self.padding_img = large_img[:,self.img_size-padding:2*self.img_size+padding, self.img_size-padding:2*self.img_size+padding]\n",
    "        self.len = (self.img_size//self.stride)**2\n",
    "        \n",
    "    def __getitem__(self, index):\n",
    "\n",
    "        row = (index*self.stride // self.img_size)*self.stride\n",
    "        col = (index*self.stride % self.img_size)\n",
    "\n",
    "        img = self.padding_img[:, row:row+self.tile_size, col:col+self.tile_size]        \n",
    "    \n",
    "        return img\n",
    "\n",
    "    def __len__(self):\n",
    "        return self.len"
   ]
  },
  {
   "cell_type": "code",
   "execution_count": 12,
   "metadata": {},
   "outputs": [],
   "source": [
    "class Net(nn.Module):\n",
    "\n",
    "    def __init__(self, fc_nodes=512, num_classes=3, dropout=0.5):\n",
    "        super(Net, self).__init__()\n",
    "        \n",
    "    def forward(self, x):\n",
    " \n",
    "        x = self.features(x)\n",
    "        x = x.view(x.size(0), -1)\n",
    "        x = self.classifier(x)\n",
    "\n",
    "        return x\n"
   ]
  },
  {
   "cell_type": "code",
   "execution_count": 13,
   "metadata": {},
   "outputs": [
    {
     "name": "stderr",
     "output_type": "stream",
     "text": [
      "/usr/local/lib/python3.6/dist-packages/torch/serialization.py:593: SourceChangeWarning: source code of class 'torch.nn.parallel.data_parallel.DataParallel' has changed. you can retrieve the original source code by accessing the object's source attribute or set `torch.nn.Module.dump_patches = True` and use the patch tool to revert the changes.\n",
      "  warnings.warn(msg, SourceChangeWarning)\n",
      "/usr/local/lib/python3.6/dist-packages/torch/serialization.py:593: SourceChangeWarning: source code of class 'torch.nn.modules.container.Sequential' has changed. you can retrieve the original source code by accessing the object's source attribute or set `torch.nn.Module.dump_patches = True` and use the patch tool to revert the changes.\n",
      "  warnings.warn(msg, SourceChangeWarning)\n",
      "/usr/local/lib/python3.6/dist-packages/torch/serialization.py:593: SourceChangeWarning: source code of class 'torch.nn.modules.conv.Conv2d' has changed. you can retrieve the original source code by accessing the object's source attribute or set `torch.nn.Module.dump_patches = True` and use the patch tool to revert the changes.\n",
      "  warnings.warn(msg, SourceChangeWarning)\n",
      "/usr/local/lib/python3.6/dist-packages/torch/serialization.py:593: SourceChangeWarning: source code of class 'torch.nn.modules.dropout.Dropout2d' has changed. you can retrieve the original source code by accessing the object's source attribute or set `torch.nn.Module.dump_patches = True` and use the patch tool to revert the changes.\n",
      "  warnings.warn(msg, SourceChangeWarning)\n",
      "/usr/local/lib/python3.6/dist-packages/torch/serialization.py:593: SourceChangeWarning: source code of class 'torch.nn.modules.activation.ReLU' has changed. you can retrieve the original source code by accessing the object's source attribute or set `torch.nn.Module.dump_patches = True` and use the patch tool to revert the changes.\n",
      "  warnings.warn(msg, SourceChangeWarning)\n",
      "/usr/local/lib/python3.6/dist-packages/torch/serialization.py:593: SourceChangeWarning: source code of class 'torch.nn.modules.pooling.MaxPool2d' has changed. you can retrieve the original source code by accessing the object's source attribute or set `torch.nn.Module.dump_patches = True` and use the patch tool to revert the changes.\n",
      "  warnings.warn(msg, SourceChangeWarning)\n",
      "/usr/local/lib/python3.6/dist-packages/torch/serialization.py:593: SourceChangeWarning: source code of class 'torch.nn.modules.linear.Linear' has changed. you can retrieve the original source code by accessing the object's source attribute or set `torch.nn.Module.dump_patches = True` and use the patch tool to revert the changes.\n",
      "  warnings.warn(msg, SourceChangeWarning)\n",
      "/usr/local/lib/python3.6/dist-packages/torch/serialization.py:593: SourceChangeWarning: source code of class 'torch.nn.modules.dropout.Dropout' has changed. you can retrieve the original source code by accessing the object's source attribute or set `torch.nn.Module.dump_patches = True` and use the patch tool to revert the changes.\n",
      "  warnings.warn(msg, SourceChangeWarning)\n"
     ]
    }
   ],
   "source": [
    "# Check GPU:\n",
    "use_gpu = torch.cuda.is_available()\n",
    "\n",
    "# instatiate the model\n",
    "plaq_model = torch.load(MODEL_PLAQ_DIR, map_location=lambda storage, loc: storage)\n",
    "seg_model = torch.load(MODEL_SEG_DIR, map_location=lambda storage, loc: storage)\n",
    "\n",
    "if use_gpu:\n",
    "    seg_model = seg_model.cuda() # Segmentation\n",
    "    plaq_model = plaq_model.module.cuda() # Plaquebox-paper\n",
    "else:\n",
    "    seg_model = seg_model\n",
    "    plaq_model = plaq_model.module"
   ]
  },
  {
   "cell_type": "code",
   "execution_count": 14,
   "metadata": {},
   "outputs": [],
   "source": [
    "def saveBrainSegImage(nums, save_dir) :\n",
    "    \"\"\"\n",
    "    Converts 2D array with {0,1,2} into RGB\n",
    "     to determine different segmentation areas\n",
    "     and saves image at given directory\n",
    "    \n",
    "    Input:\n",
    "       nums: 2D-NumPy Array containing classification\n",
    "       save_dir: string indicating save location\n",
    "    \"\"\" \n",
    "    \n",
    "    nums = np.repeat(nums[:,:, np.newaxis], 3, axis=2)\n",
    "    \n",
    "    # nums[:,:,0] = RED, nums[:,:,1] = Green, nums[:,:,2] = Blue\n",
    "    idx_1 = np.where(nums[:,:,0] == 1)  # Index of label 1 (WM)\n",
    "    idx_2 = np.where(nums[:,:,0] == 2)  # Index of label 2 (GM)\n",
    "\n",
    "    # For label 0, leave as black color\n",
    "    # For label 1, set to yellow color: R255G255B0 (WM)\n",
    "    nums[:,:,0].flat[np.ravel_multi_index(idx_1, nums[:,:,0].shape)] = 255\n",
    "    nums[:,:,1].flat[np.ravel_multi_index(idx_1, nums[:,:,1].shape)] = 255\n",
    "    nums[:,:,2].flat[np.ravel_multi_index(idx_1, nums[:,:,2].shape)] = 0\n",
    "    # For label 2, set to cyan color: R0G255B255 (GM)\n",
    "    nums[:,:,0].flat[np.ravel_multi_index(idx_2, nums[:,:,0].shape)] = 0\n",
    "    nums[:,:,1].flat[np.ravel_multi_index(idx_2, nums[:,:,1].shape)] = 255\n",
    "    nums[:,:,2].flat[np.ravel_multi_index(idx_2, nums[:,:,2].shape)] = 255\n",
    "\n",
    "    nums = nums.astype(np.uint8) # PIL save only accepts uint8 {0,..,255}\n",
    "    save_img = Image.fromarray(nums, 'RGB')\n",
    "    save_img.save(save_dir)\n",
    "    print(\"Saved at: \" + save_dir)\n",
    "    "
   ]
  },
  {
   "cell_type": "code",
   "execution_count": 15,
   "metadata": {},
   "outputs": [
    {
     "data": {
      "text/plain": [
       "['NA4900-02_AB01-40',\n",
       " 'NA4903-02_AB01-40',\n",
       " 'NA4905-02_AB01-40',\n",
       " 'NA4906-02_AB01-40',\n",
       " 'NA4907-02_AB01-40',\n",
       " 'NA4908-02_AB01-40',\n",
       " 'NA4909-02_AB01-40',\n",
       " 'NA4910-02_AB01-40',\n",
       " 'NA4912-02_AB01-40',\n",
       " 'NA4913-02_AB01-40',\n",
       " 'NA4914-02_AB01-40',\n",
       " 'NA4915-02_AB01-40']"
      ]
     },
     "execution_count": 15,
     "metadata": {},
     "output_type": "execute_result"
    }
   ],
   "source": [
    "filenames = filenames[0:12]\n",
    "filenames"
   ]
  },
  {
   "cell_type": "code",
   "execution_count": null,
   "metadata": {
    "scrolled": true
   },
   "outputs": [
    {
     "name": "stderr",
     "output_type": "stream",
     "text": [
      "\r\n",
      "  0%|          | 0/27 [00:00<?, ?it/s]"
     ]
    },
    {
     "name": "stdout",
     "output_type": "stream",
     "text": [
      "Now processing:  NA4900-02_AB01-40\n"
     ]
    },
    {
     "name": "stderr",
     "output_type": "stream",
     "text": [
      "/usr/local/lib/python3.6/dist-packages/ipykernel_launcher.py:55: UserWarning: volatile was removed and now has no effect. Use `with torch.no_grad():` instead.\n",
      "/usr/local/lib/python3.6/dist-packages/torch/nn/functional.py:1351: UserWarning: nn.functional.sigmoid is deprecated. Use torch.sigmoid instead.\n",
      "  warnings.warn(\"nn.functional.sigmoid is deprecated. Use torch.sigmoid instead.\")\n"
     ]
    }
   ],
   "source": [
    "import time\n",
    "# Inference Loop:\n",
    "\n",
    "for filename in filenames[:]:\n",
    "    print(\"Now processing: \", filename)\n",
    "    \n",
    "    # Retrieve Files\n",
    "    TILE_DIR = IMG_DIR+'{}/0/'.format(filename)\n",
    "\n",
    "    imgs = []\n",
    "    for target in sorted(os.listdir(TILE_DIR)):\n",
    "        d = os.path.join(TILE_DIR, target)\n",
    "        if not os.path.isdir(d):\n",
    "            continue\n",
    "\n",
    "        for root, _, fnames in sorted(os.walk(d)):\n",
    "            for fname in sorted(fnames):\n",
    "                if fname.endswith('.jpg'):\n",
    "                    path = os.path.join(root, fname)\n",
    "                    imgs.append(path)\n",
    "\n",
    "    rows = [int(image.split('/')[-2]) for image in imgs]\n",
    "    row_nums = max(rows) + 1\n",
    "    cols = [int(image.split('/')[-1].split('.')[0]) for image in imgs]\n",
    "    col_nums = max(cols) +1    \n",
    "    \n",
    "    # Initialize outputs accordingly:\n",
    "    heatmap_res = img_size // stride\n",
    "    plaque_output = np.zeros((3, heatmap_res*row_nums, heatmap_res*col_nums))\n",
    "    seg_output = np.zeros((heatmap_res*row_nums, heatmap_res*col_nums), dtype=np.uint8)\n",
    "\n",
    "    seg_model.train(False)  # Set model to evaluate mode\n",
    "    plaq_model.train(False)\n",
    "    \n",
    "    start_time = time.perf_counter() # To evaluate Time taken per inference\n",
    "\n",
    "    for row in tqdm(range(row_nums)):\n",
    "        for col in range(col_nums):\n",
    "\n",
    "            image_datasets = HeatmapDataset(TILE_DIR, row, col, stride=stride)\n",
    "            dataloader = torch.utils.data.DataLoader(image_datasets, batch_size=batch_size,\n",
    "                                                 shuffle=False, num_workers=num_workers)\n",
    "            \n",
    "            # From Plaque-Detection:\n",
    "            running_plaques = torch.Tensor(0)\n",
    "            # For Stride 32 (BrainSeg):\n",
    "            running_seg = torch.zeros((32), dtype=torch.uint8)\n",
    "            output_class = np.zeros((heatmap_res, heatmap_res), dtype=np.uint8)\n",
    "            \n",
    "            for idx, data in enumerate(dataloader):\n",
    "                # get the inputs\n",
    "                inputs = data\n",
    "                # wrap them in Variable\n",
    "                if use_gpu:\n",
    "                    inputs = Variable(inputs.cuda(), volatile=True)\n",
    "                    \n",
    "                    # forward (Plaque Detection) :\n",
    "                    outputs = plaq_model(inputs)\n",
    "                    preds = F.sigmoid(outputs) # Posibility for each class = [0,1]\n",
    "                    preds = preds.data.cpu()\n",
    "                    running_plaques = torch.cat([running_plaques, preds])\n",
    "                    \n",
    "                    # forward (BrainSeg) :\n",
    "                    predict = seg_model(inputs)\n",
    "                    _, indices = torch.max(predict.data, 1) # indices = 0:Background, 1:WM, 2:GM\n",
    "                    indices = indices.type(torch.uint8)\n",
    "                    running_seg =  indices.data.cpu()\n",
    "\n",
    "                    # For Stride 32 (BrainSeg) :\n",
    "                    i = (idx // (heatmap_res//batch_size))\n",
    "                    j = (idx % (heatmap_res//batch_size))\n",
    "                    output_class[i,j*batch_size:(j+1)*batch_size] = running_seg\n",
    "            \n",
    "            # Final Outputs of Brain Segmentation\n",
    "            seg_output[row*heatmap_res:(row+1)*heatmap_res, col*heatmap_res:(col+1)*heatmap_res] = output_class\n",
    "            \n",
    "            # Final Outputs of Plaque Detection:\n",
    "            cored = np.asarray(running_plaques[:,0]).reshape(img_size//stride,img_size//stride)\n",
    "            diffuse = np.asarray(running_plaques[:,1]).reshape(img_size//stride,img_size//stride)\n",
    "            caa = np.asarray(running_plaques[:,2]).reshape(img_size//stride,img_size//stride)\n",
    "            \n",
    "            plaque_output[0, row*heatmap_res:(row+1)*heatmap_res, col*heatmap_res:(col+1)*heatmap_res] = cored\n",
    "            plaque_output[1, row*heatmap_res:(row+1)*heatmap_res, col*heatmap_res:(col+1)*heatmap_res] = diffuse\n",
    "            plaque_output[2, row*heatmap_res:(row+1)*heatmap_res, col*heatmap_res:(col+1)*heatmap_res] = caa\n",
    "\n",
    "            seg_output[row*heatmap_res:(row+1)*heatmap_res, col*heatmap_res:(col+1)*heatmap_res] = output_class\n",
    "\n",
    "    # Saving Confidence=[0,1] for Plaque Detection\n",
    "    np.save(SAVE_PLAQ_DIR+filename, plaque_output)\n",
    "    \n",
    "    # Saving BrainSeg Classification={0,1,2}\n",
    "    np.save(SAVE_NP_DIR+filename, seg_output)\n",
    "    saveBrainSegImage(seg_output, \\\n",
    "                      SAVE_IMG_DIR + filename + '.png')\n",
    "    \n",
    "    # Time Statistics for Inference\n",
    "    end_time = time.perf_counter()\n",
    "    print(\"Time to process \" \\\n",
    "          + filename \\\n",
    "          + \": \", end_time-start_time, \"sec\")"
   ]
  },
  {
   "cell_type": "code",
   "execution_count": 6,
   "metadata": {},
   "outputs": [],
   "source": [
    "def plot_heatmap(final_output) :\n",
    "    \"\"\"\n",
    "    Plots Confidence Heatmap of Plaques = [0,1]\n",
    "    \n",
    "    Inputs:\n",
    "        final_output (NumPy array of \n",
    "        3*img_height*height_width) :\n",
    "            Contains Plaque Confidence with each axis\n",
    "            representing different types of plaque\n",
    "            \n",
    "    Outputs:\n",
    "        Subplots containing Plaque Confidences\n",
    "    \"\"\"\n",
    "    fig = plt.figure(figsize=(45,15))\n",
    "\n",
    "    ax = fig.add_subplot(311)\n",
    "\n",
    "    im = ax.imshow(final_output[0], cmap=plt.cm.get_cmap('viridis', 20), vmin=0, vmax=1)\n",
    "    divider = make_axes_locatable(ax)\n",
    "    cax = divider.append_axes(\"right\", size=\"5%\", pad=0.1)\n",
    "    plt.colorbar(im, cax=cax, ticks=[0.0, 0.25, 0.5, 0.75, 1.0])\n",
    "\n",
    "    ax = fig.add_subplot(312)\n",
    "\n",
    "    im = ax.imshow(final_output[1], cmap=plt.cm.get_cmap('viridis', 20), vmin=0, vmax=1)\n",
    "    divider = make_axes_locatable(ax)\n",
    "    cax = divider.append_axes(\"right\", size=\"5%\", pad=0.1)\n",
    "    plt.colorbar(im, cax=cax, ticks=[0.0, 0.25, 0.5, 0.75, 1.0])\n",
    "\n",
    "    ax = fig.add_subplot(313)\n",
    "\n",
    "    im = ax.imshow(final_output[2], cmap=plt.cm.get_cmap('viridis', 20), vmin=0, vmax=1)\n",
    "    divider = make_axes_locatable(ax)\n",
    "    cax = divider.append_axes(\"right\", size=\"5%\", pad=0.1)\n",
    "    plt.colorbar(im, cax=cax, ticks=[0.0, 0.25, 0.5, 0.75, 1.0])"
   ]
  },
  {
   "cell_type": "markdown",
   "metadata": {},
   "source": [
    "### 3) Post-processing and Counting Plaques at each Segmentation Area"
   ]
  },
  {
   "cell_type": "code",
   "execution_count": 7,
   "metadata": {},
   "outputs": [],
   "source": [
    "import csv\n",
    "import glob, os\n",
    "\n",
    "import cv2\n",
    "import numpy as np\n",
    "import pandas as pd\n",
    "import matplotlib.pyplot as plt\n",
    "from skimage import measure\n",
    "from scipy import stats\n",
    "\n",
    "from tqdm import tqdm"
   ]
  },
  {
   "cell_type": "code",
   "execution_count": 8,
   "metadata": {},
   "outputs": [],
   "source": [
    "from PIL import Image\n",
    "def saveBrainSegImage(nums, save_dir) :\n",
    "    \"\"\"\n",
    "    Converts 2D array with {0,1,2} into RGB\n",
    "     to determine different segmentation areas\n",
    "     and saves image at given directory\n",
    "    \n",
    "    Input:\n",
    "       nums: 2D-NumPy Array containing classification\n",
    "       save_dir: string indicating save location\n",
    "    \"\"\" \n",
    "    \n",
    "    nums = np.repeat(nums[:,:, np.newaxis], 3, axis=2)\n",
    "    \n",
    "    # nums[:,:,0] = RED, nums[:,:,1] = Green, nums[:,:,2] = Blue\n",
    "    idx_1 = np.where(nums[:,:,0] == 1)  # Index of label 1 (WM)\n",
    "    idx_2 = np.where(nums[:,:,0] == 2)  # Index of label 2 (GM)\n",
    "\n",
    "    # For label 0, leave as black color\n",
    "    # For label 1, set to yellow color: R255G255B0 (WM)\n",
    "    nums[:,:,0].flat[np.ravel_multi_index(idx_1, nums[:,:,0].shape)] = 255\n",
    "    nums[:,:,1].flat[np.ravel_multi_index(idx_1, nums[:,:,1].shape)] = 255\n",
    "    nums[:,:,2].flat[np.ravel_multi_index(idx_1, nums[:,:,2].shape)] = 0\n",
    "    # For label 2, set to cyan color: R0G255B255 (GM)\n",
    "    nums[:,:,0].flat[np.ravel_multi_index(idx_2, nums[:,:,0].shape)] = 0\n",
    "    nums[:,:,1].flat[np.ravel_multi_index(idx_2, nums[:,:,1].shape)] = 255\n",
    "    nums[:,:,2].flat[np.ravel_multi_index(idx_2, nums[:,:,2].shape)] = 255\n",
    "\n",
    "    nums = nums.astype(np.uint8) # PIL save only accepts uint8 {0,..,255}\n",
    "    save_img = Image.fromarray(nums, 'RGB')\n",
    "    save_img.save(save_dir)\n",
    "    print(\"Saved at: \" + save_dir)"
   ]
  },
  {
   "cell_type": "code",
   "execution_count": 9,
   "metadata": {},
   "outputs": [],
   "source": [
    "from PIL import Image\n",
    "import numpy as np\n",
    "from scipy import ndimage\n",
    "from skimage import morphology, measure\n",
    "# import lxml.etree as ET\n",
    "from tqdm import tqdm\n",
    "\n",
    "# Post-Processing BrainSeg - Jeff, Kolin, Wenda\n",
    "def method_6(mask_img: \"Image\", down_factor=4) -> \"NDArray[np.uint8]\":\n",
    "    \"\"\"Downsample => Area_opening (Remove local maxima) =>\n",
    "    Swap index of GM and WM => Area_opening => Swap index back =>\n",
    "    Area_closing => Morphological opening => Upsample\"\"\"\n",
    "    # pylint: disable=invalid-name\n",
    "    def swap_GM_WM(arr):\n",
    "        \"\"\"Swap GM and WM in arr (swaps index 1 and index 2)\"\"\"\n",
    "        arr_1 = (arr == 1)\n",
    "        arr[arr == 2] = 1\n",
    "        arr[arr_1] = 2\n",
    "        del arr_1\n",
    "        return arr\n",
    "    # pylint: enable=invalid-name\n",
    "\n",
    "    mask_img = Image.fromarray(mask_img)\n",
    "    width, height = mask_img.width, mask_img.height\n",
    "    area_threshold_prop = 0.05\n",
    "    area_threshold = int(area_threshold_prop * width * height // down_factor**2)\n",
    "\n",
    "    # Downsample the image\n",
    "    mask_arr = np.array(\n",
    "        mask_img.resize((width // down_factor, height // down_factor), Image.NEAREST))\n",
    "    del mask_img\n",
    "    print('Finish downsampling')\n",
    "\n",
    "    # Apply area_opening to remove local maxima with area < 20000 px\n",
    "    mask_arr = morphology.area_opening(mask_arr, area_threshold=3200 // down_factor**2)\n",
    "    print('Finish area_opening #1')\n",
    "\n",
    "    # Swap index of GM and WM\n",
    "    mask_arr = swap_GM_WM(mask_arr)\n",
    "    print('Finish swapping index')\n",
    "\n",
    "    # Apply area_opening to remove local maxima with area < 20000 px\n",
    "    mask_arr = morphology.area_opening(mask_arr, area_threshold=3200 // down_factor**2)\n",
    "    print('Finish area_opening #2')\n",
    "\n",
    "    # Swap index back\n",
    "    mask_arr = swap_GM_WM(mask_arr)\n",
    "    print('Finish swapping index back')\n",
    "\n",
    "    # Apply area_closing to remove local minima with area < 12500 px\n",
    "    mask_arr = morphology.area_closing(mask_arr, area_threshold=2000 // down_factor**2)\n",
    "    print('Finish area_closing')\n",
    "\n",
    "    # Apply remove_small_objects to remove tissue residue with area < 0.05 * width * height\n",
    "    tissue_arr = morphology.remove_small_objects(mask_arr > 0, min_size=area_threshold,\n",
    "                                                 connectivity=2)\n",
    "    mask_arr[np.invert(tissue_arr)] = 0\n",
    "    del tissue_arr\n",
    "    print('Finish remove_small_objects')\n",
    "\n",
    "    # Apply opening with disk-shaped kernel (r=8) to smooth boundary\n",
    "    mask_arr = morphology.opening(mask_arr, selem=morphology.disk(radius=32 // down_factor))\n",
    "    print('Finish morphological opening')\n",
    "\n",
    "    # Upsample the output\n",
    "    mask_arr = np.array(Image.fromarray(mask_arr).resize((width, height), Image.NEAREST))\n",
    "    print('Finish upsampling')\n",
    "\n",
    "    return mask_arr"
   ]
  },
  {
   "cell_type": "code",
   "execution_count": 14,
   "metadata": {},
   "outputs": [],
   "source": [
    "# Plaque-counting Directories\n",
    "SAVE_DIR = ODR + '/outputs/CNNscore/'\n",
    "if not os.path.exists(SAVE_DIR):\n",
    "    os.makedirs(SAVE_DIR)\n",
    "CSV_DIR = ODR + '/outputs/CNNscore/WSI_CERAD_AREA.csv'\n",
    "HEATMAP_DIR = ODR + '/outputs/heatmaps/'\n",
    "\n",
    "# BrainSeg Post-processing Directories\n",
    "BRAINSEG_NP_PRE_DIR = ODR + '/brainseg/numpy/'\n",
    "POST_IMG_DIR = ODR + '/postprocess/images/'\n",
    "POST_NP_DIR = ODR + '/postprocess/numpy/'\n",
    "if not os.path.exists(POST_IMG_DIR):\n",
    "    os.makedirs(POST_IMG_DIR)\n",
    "if not os.path.exists(POST_NP_DIR):\n",
    "    os.makedirs(POST_NP_DIR)\n",
    "# Counted Plaques Save Directories\n",
    "SAVE_IMG_DIR = ODR + '/outputs/masked_plaque/images/'\n",
    "if not os.path.exists(SAVE_IMG_DIR):\n",
    "    os.makedirs(SAVE_IMG_DIR)\n",
    "SAVE_NP_DIR = ODR + '/outputs/masked_plaque/numpy/'\n",
    "if not os.path.exists(SAVE_NP_DIR):\n",
    "    os.makedirs(SAVE_NP_DIR)\n",
    "\n"
   ]
  },
  {
   "cell_type": "code",
   "execution_count": 16,
   "metadata": {
    "scrolled": true
   },
   "outputs": [
    {
     "name": "stdout",
     "output_type": "stream",
     "text": [
      "['NA4900-02_AB01-40', 'NA4903-02_AB01-40', 'NA4905-02_AB01-40', 'NA4906-02_AB01-40', 'NA4907-02_AB01-40', 'NA4908-02_AB01-40', 'NA4909-02_AB01-40', 'NA4910-02_AB01-40', 'NA4912-02_AB01-40', 'NA4913-02_AB01-40', 'NA4914-02_AB01-40', 'NA4915-02_AB01-40', 'NA4916-02_AB01-40', 'NA4917-02_AB01-40', 'NA4919-02_AB01-40', 'NA4920-02_AB01-40', 'NA4921-02_AB01-40', 'NA4922-02_AB01-40', 'NA4923-02_AB01-40', 'NA4924-02_AB01-40', 'NA4925-02_AB01-40', 'NA4926-02_AB01-40', 'NA4927-02_AB01-40', 'NA4928-02_AB01-40']\n",
      "24\n"
     ]
    }
   ],
   "source": [
    "filenames = sorted(os.listdir(BRAINSEG_NP_PRE_DIR))\n",
    "filenames = [os.path.splitext(file)[0] for file in filenames]\n",
    "print(filenames)\n",
    "print(len(filenames))"
   ]
  },
  {
   "cell_type": "code",
   "execution_count": 17,
   "metadata": {
    "scrolled": true
   },
   "outputs": [
    {
     "name": "stderr",
     "output_type": "stream",
     "text": [
      "\r\n",
      "  0%|          | 0/24 [00:00<?, ?it/s]"
     ]
    },
    {
     "name": "stdout",
     "output_type": "stream",
     "text": [
      "Loading: data_1_40/brainseg/numpy/NA4900-02_AB01-40.npy\n",
      "Finish downsampling\n",
      "Finish area_opening #1\n",
      "Finish swapping index\n",
      "Finish area_opening #2\n",
      "Finish swapping index back\n",
      "Finish area_closing\n",
      "Finish remove_small_objects\n",
      "Finish morphological opening\n",
      "Finish upsampling\n"
     ]
    },
    {
     "name": "stderr",
     "output_type": "stream",
     "text": [
      "\r\n",
      "  4%|▍         | 1/24 [00:05<01:55,  5.02s/it]"
     ]
    },
    {
     "name": "stdout",
     "output_type": "stream",
     "text": [
      "Saved at: data_1_40/postprocess/images/NA4900-02_AB01-40.png\n",
      "Loading: data_1_40/brainseg/numpy/NA4903-02_AB01-40.npy\n",
      "Finish downsampling\n",
      "Finish area_opening #1\n",
      "Finish swapping index\n",
      "Finish area_opening #2\n",
      "Finish swapping index back\n",
      "Finish area_closing\n",
      "Finish remove_small_objects\n",
      "Finish morphological opening\n",
      "Finish upsampling\n"
     ]
    },
    {
     "name": "stderr",
     "output_type": "stream",
     "text": [
      "\r\n",
      "  8%|▊         | 2/24 [00:09<01:48,  4.94s/it]"
     ]
    },
    {
     "name": "stdout",
     "output_type": "stream",
     "text": [
      "Saved at: data_1_40/postprocess/images/NA4903-02_AB01-40.png\n",
      "Loading: data_1_40/brainseg/numpy/NA4905-02_AB01-40.npy\n",
      "Finish downsampling\n",
      "Finish area_opening #1\n",
      "Finish swapping index\n",
      "Finish area_opening #2\n",
      "Finish swapping index back\n",
      "Finish area_closing\n",
      "Finish remove_small_objects\n",
      "Finish morphological opening\n",
      "Finish upsampling\n"
     ]
    },
    {
     "name": "stderr",
     "output_type": "stream",
     "text": [
      "\r\n",
      " 12%|█▎        | 3/24 [00:14<01:36,  4.58s/it]"
     ]
    },
    {
     "name": "stdout",
     "output_type": "stream",
     "text": [
      "Saved at: data_1_40/postprocess/images/NA4905-02_AB01-40.png\n",
      "Loading: data_1_40/brainseg/numpy/NA4906-02_AB01-40.npy\n",
      "Finish downsampling\n",
      "Finish area_opening #1\n",
      "Finish swapping index\n",
      "Finish area_opening #2\n",
      "Finish swapping index back\n",
      "Finish area_closing\n",
      "Finish remove_small_objects\n",
      "Finish morphological opening\n",
      "Finish upsampling\n"
     ]
    },
    {
     "name": "stderr",
     "output_type": "stream",
     "text": [
      "\r\n",
      " 17%|█▋        | 4/24 [00:19<01:40,  5.04s/it]"
     ]
    },
    {
     "name": "stdout",
     "output_type": "stream",
     "text": [
      "Saved at: data_1_40/postprocess/images/NA4906-02_AB01-40.png\n",
      "Loading: data_1_40/brainseg/numpy/NA4907-02_AB01-40.npy\n",
      "Finish downsampling\n",
      "Finish area_opening #1\n",
      "Finish swapping index\n",
      "Finish area_opening #2\n",
      "Finish swapping index back\n",
      "Finish area_closing\n",
      "Finish remove_small_objects\n",
      "Finish morphological opening\n",
      "Finish upsampling\n"
     ]
    },
    {
     "name": "stderr",
     "output_type": "stream",
     "text": [
      "\r\n",
      " 21%|██        | 5/24 [00:24<01:32,  4.86s/it]"
     ]
    },
    {
     "name": "stdout",
     "output_type": "stream",
     "text": [
      "Saved at: data_1_40/postprocess/images/NA4907-02_AB01-40.png\n",
      "Loading: data_1_40/brainseg/numpy/NA4908-02_AB01-40.npy\n",
      "Finish downsampling\n",
      "Finish area_opening #1\n",
      "Finish swapping index\n",
      "Finish area_opening #2\n",
      "Finish swapping index back\n",
      "Finish area_closing\n",
      "Finish remove_small_objects\n",
      "Finish morphological opening\n",
      "Finish upsampling\n"
     ]
    },
    {
     "name": "stderr",
     "output_type": "stream",
     "text": [
      "\r\n",
      " 25%|██▌       | 6/24 [00:27<01:15,  4.20s/it]"
     ]
    },
    {
     "name": "stdout",
     "output_type": "stream",
     "text": [
      "Saved at: data_1_40/postprocess/images/NA4908-02_AB01-40.png\n",
      "Loading: data_1_40/brainseg/numpy/NA4909-02_AB01-40.npy\n",
      "Finish downsampling\n",
      "Finish area_opening #1\n",
      "Finish swapping index\n",
      "Finish area_opening #2\n",
      "Finish swapping index back\n",
      "Finish area_closing\n",
      "Finish remove_small_objects\n",
      "Finish morphological opening\n",
      "Finish upsampling\n"
     ]
    },
    {
     "name": "stderr",
     "output_type": "stream",
     "text": [
      "\r\n",
      " 29%|██▉       | 7/24 [00:32<01:14,  4.40s/it]"
     ]
    },
    {
     "name": "stdout",
     "output_type": "stream",
     "text": [
      "Saved at: data_1_40/postprocess/images/NA4909-02_AB01-40.png\n",
      "Loading: data_1_40/brainseg/numpy/NA4910-02_AB01-40.npy\n",
      "Finish downsampling\n",
      "Finish area_opening #1\n",
      "Finish swapping index\n",
      "Finish area_opening #2\n",
      "Finish swapping index back\n",
      "Finish area_closing\n",
      "Finish remove_small_objects\n",
      "Finish morphological opening\n",
      "Finish upsampling\n"
     ]
    },
    {
     "name": "stderr",
     "output_type": "stream",
     "text": [
      "\r\n",
      " 33%|███▎      | 8/24 [00:34<01:02,  3.92s/it]"
     ]
    },
    {
     "name": "stdout",
     "output_type": "stream",
     "text": [
      "Saved at: data_1_40/postprocess/images/NA4910-02_AB01-40.png\n",
      "Loading: data_1_40/brainseg/numpy/NA4912-02_AB01-40.npy\n",
      "Finish downsampling\n",
      "Finish area_opening #1\n",
      "Finish swapping index\n",
      "Finish area_opening #2\n",
      "Finish swapping index back\n",
      "Finish area_closing\n",
      "Finish remove_small_objects\n",
      "Finish morphological opening\n",
      "Finish upsampling\n"
     ]
    },
    {
     "name": "stderr",
     "output_type": "stream",
     "text": [
      "\r\n",
      " 38%|███▊      | 9/24 [00:38<00:56,  3.77s/it]"
     ]
    },
    {
     "name": "stdout",
     "output_type": "stream",
     "text": [
      "Saved at: data_1_40/postprocess/images/NA4912-02_AB01-40.png\n",
      "Loading: data_1_40/brainseg/numpy/NA4913-02_AB01-40.npy\n",
      "Finish downsampling\n",
      "Finish area_opening #1\n",
      "Finish swapping index\n",
      "Finish area_opening #2\n",
      "Finish swapping index back\n",
      "Finish area_closing\n",
      "Finish remove_small_objects\n",
      "Finish morphological opening\n",
      "Finish upsampling\n"
     ]
    },
    {
     "name": "stderr",
     "output_type": "stream",
     "text": [
      "\r\n",
      " 42%|████▏     | 10/24 [00:40<00:43,  3.11s/it]"
     ]
    },
    {
     "name": "stdout",
     "output_type": "stream",
     "text": [
      "Saved at: data_1_40/postprocess/images/NA4913-02_AB01-40.png\n",
      "Loading: data_1_40/brainseg/numpy/NA4914-02_AB01-40.npy\n",
      "Finish downsampling\n",
      "Finish area_opening #1\n",
      "Finish swapping index\n",
      "Finish area_opening #2\n",
      "Finish swapping index back\n",
      "Finish area_closing\n",
      "Finish remove_small_objects\n",
      "Finish morphological opening\n",
      "Finish upsampling\n"
     ]
    },
    {
     "name": "stderr",
     "output_type": "stream",
     "text": [
      "\r\n",
      " 46%|████▌     | 11/24 [00:43<00:42,  3.27s/it]"
     ]
    },
    {
     "name": "stdout",
     "output_type": "stream",
     "text": [
      "Saved at: data_1_40/postprocess/images/NA4914-02_AB01-40.png\n",
      "Loading: data_1_40/brainseg/numpy/NA4915-02_AB01-40.npy\n",
      "Finish downsampling\n",
      "Finish area_opening #1\n",
      "Finish swapping index\n",
      "Finish area_opening #2\n",
      "Finish swapping index back\n",
      "Finish area_closing\n",
      "Finish remove_small_objects\n",
      "Finish morphological opening\n",
      "Finish upsampling\n"
     ]
    },
    {
     "name": "stderr",
     "output_type": "stream",
     "text": [
      "\r\n",
      " 50%|█████     | 12/24 [00:47<00:40,  3.35s/it]"
     ]
    },
    {
     "name": "stdout",
     "output_type": "stream",
     "text": [
      "Saved at: data_1_40/postprocess/images/NA4915-02_AB01-40.png\n",
      "Loading: data_1_40/brainseg/numpy/NA4916-02_AB01-40.npy\n",
      "Finish downsampling\n",
      "Finish area_opening #1\n",
      "Finish swapping index\n",
      "Finish area_opening #2\n",
      "Finish swapping index back\n",
      "Finish area_closing\n",
      "Finish remove_small_objects\n",
      "Finish morphological opening\n",
      "Finish upsampling\n"
     ]
    },
    {
     "name": "stderr",
     "output_type": "stream",
     "text": [
      "\r\n",
      " 54%|█████▍    | 13/24 [00:49<00:33,  3.09s/it]"
     ]
    },
    {
     "name": "stdout",
     "output_type": "stream",
     "text": [
      "Saved at: data_1_40/postprocess/images/NA4916-02_AB01-40.png\n",
      "Loading: data_1_40/brainseg/numpy/NA4917-02_AB01-40.npy\n",
      "Finish downsampling\n",
      "Finish area_opening #1\n",
      "Finish swapping index\n",
      "Finish area_opening #2\n",
      "Finish swapping index back\n",
      "Finish area_closing\n",
      "Finish remove_small_objects\n",
      "Finish morphological opening\n",
      "Finish upsampling\n"
     ]
    },
    {
     "name": "stderr",
     "output_type": "stream",
     "text": [
      "\r\n",
      " 58%|█████▊    | 14/24 [00:53<00:33,  3.36s/it]"
     ]
    },
    {
     "name": "stdout",
     "output_type": "stream",
     "text": [
      "Saved at: data_1_40/postprocess/images/NA4917-02_AB01-40.png\n",
      "Loading: data_1_40/brainseg/numpy/NA4919-02_AB01-40.npy\n",
      "Finish downsampling\n",
      "Finish area_opening #1\n",
      "Finish swapping index\n",
      "Finish area_opening #2\n",
      "Finish swapping index back\n",
      "Finish area_closing\n",
      "Finish remove_small_objects\n",
      "Finish morphological opening\n",
      "Finish upsampling\n"
     ]
    },
    {
     "name": "stderr",
     "output_type": "stream",
     "text": [
      "\r\n",
      " 62%|██████▎   | 15/24 [00:56<00:29,  3.30s/it]"
     ]
    },
    {
     "name": "stdout",
     "output_type": "stream",
     "text": [
      "Saved at: data_1_40/postprocess/images/NA4919-02_AB01-40.png\n",
      "Loading: data_1_40/brainseg/numpy/NA4920-02_AB01-40.npy\n",
      "Finish downsampling\n",
      "Finish area_opening #1\n",
      "Finish swapping index\n",
      "Finish area_opening #2\n",
      "Finish swapping index back\n",
      "Finish area_closing\n",
      "Finish remove_small_objects\n",
      "Finish morphological opening\n",
      "Finish upsampling\n"
     ]
    },
    {
     "name": "stderr",
     "output_type": "stream",
     "text": [
      "\r\n",
      " 67%|██████▋   | 16/24 [01:00<00:27,  3.41s/it]"
     ]
    },
    {
     "name": "stdout",
     "output_type": "stream",
     "text": [
      "Saved at: data_1_40/postprocess/images/NA4920-02_AB01-40.png\n",
      "Loading: data_1_40/brainseg/numpy/NA4921-02_AB01-40.npy\n",
      "Finish downsampling\n",
      "Finish area_opening #1\n",
      "Finish swapping index\n",
      "Finish area_opening #2\n",
      "Finish swapping index back\n",
      "Finish area_closing\n",
      "Finish remove_small_objects\n",
      "Finish morphological opening\n",
      "Finish upsampling\n"
     ]
    },
    {
     "name": "stderr",
     "output_type": "stream",
     "text": [
      "\r\n",
      " 71%|███████   | 17/24 [01:04<00:24,  3.49s/it]"
     ]
    },
    {
     "name": "stdout",
     "output_type": "stream",
     "text": [
      "Saved at: data_1_40/postprocess/images/NA4921-02_AB01-40.png\n",
      "Loading: data_1_40/brainseg/numpy/NA4922-02_AB01-40.npy\n",
      "Finish downsampling\n",
      "Finish area_opening #1\n",
      "Finish swapping index\n",
      "Finish area_opening #2\n",
      "Finish swapping index back\n",
      "Finish area_closing\n",
      "Finish remove_small_objects\n",
      "Finish morphological opening\n",
      "Finish upsampling\n"
     ]
    },
    {
     "name": "stderr",
     "output_type": "stream",
     "text": [
      "\r\n",
      " 75%|███████▌  | 18/24 [01:08<00:22,  3.81s/it]"
     ]
    },
    {
     "name": "stdout",
     "output_type": "stream",
     "text": [
      "Saved at: data_1_40/postprocess/images/NA4922-02_AB01-40.png\n",
      "Loading: data_1_40/brainseg/numpy/NA4923-02_AB01-40.npy\n",
      "Finish downsampling\n",
      "Finish area_opening #1\n",
      "Finish swapping index\n",
      "Finish area_opening #2\n",
      "Finish swapping index back\n",
      "Finish area_closing\n",
      "Finish remove_small_objects\n",
      "Finish morphological opening\n",
      "Finish upsampling\n"
     ]
    },
    {
     "name": "stderr",
     "output_type": "stream",
     "text": [
      "\r\n",
      " 79%|███████▉  | 19/24 [01:12<00:18,  3.74s/it]"
     ]
    },
    {
     "name": "stdout",
     "output_type": "stream",
     "text": [
      "Saved at: data_1_40/postprocess/images/NA4923-02_AB01-40.png\n",
      "Loading: data_1_40/brainseg/numpy/NA4924-02_AB01-40.npy\n",
      "Finish downsampling\n",
      "Finish area_opening #1\n",
      "Finish swapping index\n",
      "Finish area_opening #2\n",
      "Finish swapping index back\n",
      "Finish area_closing\n",
      "Finish remove_small_objects\n",
      "Finish morphological opening\n",
      "Finish upsampling\n"
     ]
    },
    {
     "name": "stderr",
     "output_type": "stream",
     "text": [
      "\r\n",
      " 83%|████████▎ | 20/24 [01:15<00:14,  3.68s/it]"
     ]
    },
    {
     "name": "stdout",
     "output_type": "stream",
     "text": [
      "Saved at: data_1_40/postprocess/images/NA4924-02_AB01-40.png\n",
      "Loading: data_1_40/brainseg/numpy/NA4925-02_AB01-40.npy\n",
      "Finish downsampling\n",
      "Finish area_opening #1\n",
      "Finish swapping index\n",
      "Finish area_opening #2\n",
      "Finish swapping index back\n",
      "Finish area_closing\n",
      "Finish remove_small_objects\n",
      "Finish morphological opening\n",
      "Finish upsampling\n"
     ]
    },
    {
     "name": "stderr",
     "output_type": "stream",
     "text": [
      "\r\n",
      " 88%|████████▊ | 21/24 [01:18<00:10,  3.41s/it]"
     ]
    },
    {
     "name": "stdout",
     "output_type": "stream",
     "text": [
      "Saved at: data_1_40/postprocess/images/NA4925-02_AB01-40.png\n",
      "Loading: data_1_40/brainseg/numpy/NA4926-02_AB01-40.npy\n",
      "Finish downsampling\n",
      "Finish area_opening #1\n",
      "Finish swapping index\n",
      "Finish area_opening #2\n",
      "Finish swapping index back\n",
      "Finish area_closing\n",
      "Finish remove_small_objects\n",
      "Finish morphological opening\n",
      "Finish upsampling\n"
     ]
    },
    {
     "name": "stderr",
     "output_type": "stream",
     "text": [
      "\r\n",
      " 92%|█████████▏| 22/24 [01:21<00:06,  3.34s/it]"
     ]
    },
    {
     "name": "stdout",
     "output_type": "stream",
     "text": [
      "Saved at: data_1_40/postprocess/images/NA4926-02_AB01-40.png\n",
      "Loading: data_1_40/brainseg/numpy/NA4927-02_AB01-40.npy\n",
      "Finish downsampling\n",
      "Finish area_opening #1\n",
      "Finish swapping index\n",
      "Finish area_opening #2\n",
      "Finish swapping index back\n",
      "Finish area_closing\n",
      "Finish remove_small_objects\n",
      "Finish morphological opening\n",
      "Finish upsampling\n"
     ]
    },
    {
     "name": "stderr",
     "output_type": "stream",
     "text": [
      "\r\n",
      " 96%|█████████▌| 23/24 [01:25<00:03,  3.39s/it]"
     ]
    },
    {
     "name": "stdout",
     "output_type": "stream",
     "text": [
      "Saved at: data_1_40/postprocess/images/NA4927-02_AB01-40.png\n",
      "Loading: data_1_40/brainseg/numpy/NA4928-02_AB01-40.npy\n",
      "Finish downsampling\n",
      "Finish area_opening #1\n",
      "Finish swapping index\n",
      "Finish area_opening #2\n",
      "Finish swapping index back\n",
      "Finish area_closing\n",
      "Finish remove_small_objects\n",
      "Finish morphological opening\n",
      "Finish upsampling\n"
     ]
    },
    {
     "name": "stderr",
     "output_type": "stream",
     "text": [
      "100%|██████████| 24/24 [01:29<00:00,  3.75s/it]"
     ]
    },
    {
     "name": "stdout",
     "output_type": "stream",
     "text": [
      "Saved at: data_1_40/postprocess/images/NA4928-02_AB01-40.png\n"
     ]
    },
    {
     "name": "stderr",
     "output_type": "stream",
     "text": [
      "\n"
     ]
    }
   ],
   "source": [
    "# Post-process BrainSeg\n",
    "for filename in tqdm(filenames) :\n",
    "    fileLoc = BRAINSEG_NP_PRE_DIR + filename + \".npy\"\n",
    "    print(\"Loading: \" + fileLoc)\n",
    "    seg_pic = np.load(fileLoc)\n",
    "    processed = method_6(seg_pic)\n",
    "    np.save(POST_NP_DIR+filename, processed)\n",
    "    saveBrainSegImage(processed, \\\n",
    "                      POST_IMG_DIR + filename + '.png')"
   ]
  },
  {
   "cell_type": "code",
   "execution_count": 18,
   "metadata": {},
   "outputs": [],
   "source": [
    "# UserWarning: The argument 'neighbors' is deprecated and will be removed in scikit-image 0.18,\n",
    "# use 'connectivity' instead. For neighbors=8, use connectivity=2\n",
    "#   This is separate from the ipykernel package so we can avoid doing imports until\n",
    "\n",
    "# Post-Processing to count Plaques\n",
    "def count_blobs(mask,\n",
    "               threshold=1500):\n",
    "#     labels = measure.label(mask, neighbors=8, background=0)\n",
    "    labels = measure.label(mask, connectivity=2, background=0)\n",
    "    img_mask = np.zeros(mask.shape, dtype='uint8')\n",
    "    labeled_mask = np.zeros(mask.shape, dtype='uint16')\n",
    "    sizes = []\n",
    "    locations = []\n",
    "    \n",
    "    # loop over the unique components\n",
    "    for label in np.unique(labels):\n",
    "        # if this is the background label, ignore it\n",
    "        if label == 0:\n",
    "            continue\n",
    "        # otherwise, construct the label mask and count the\n",
    "        # number of pixels \n",
    "        labelMask = np.zeros(mask.shape, dtype=\"uint8\")\n",
    "        labelMask[labels == label] = 255\n",
    "        numPixels = cv2.countNonZero(labelMask)\n",
    "        \n",
    "        # if the number of pixels in the component is sufficiently\n",
    "        # large, then add it to our mask of \"large blobs\"\n",
    "        if numPixels > threshold:\n",
    "            sizes.append(numPixels)\n",
    "            img_mask = cv2.add(img_mask, labelMask)\n",
    "            \n",
    "            # Save confirmed unique location of plaque\n",
    "            labeled_mask[labels==label] = label\n",
    "\n",
    "    return sizes, img_mask, labeled_mask"
   ]
  },
  {
   "cell_type": "code",
   "execution_count": 19,
   "metadata": {},
   "outputs": [],
   "source": [
    "%matplotlib inline\n",
    "from mpl_toolkits.axes_grid1 import make_axes_locatable\n",
    "def plot_mask(mask_array) :\n",
    "    \"\"\"\n",
    "    Plots Post-processed detected Plaques\n",
    "    \n",
    "    Inputs:\n",
    "        mask_array = img_mask from count_blobs()'s output\n",
    "    \"\"\"\n",
    "    fig = plt.figure(figsize=(45,15))\n",
    "    ax = fig.add_subplot(111)\n",
    "\n",
    "    im = ax.imshow(mask_array, cmap=plt.cm.get_cmap('viridis', 20), vmin=0, vmax=1)\n",
    "    divider = make_axes_locatable(ax)\n",
    "    cax = divider.append_axes(\"right\", size=\"5%\", pad=0.1)\n",
    "    plt.colorbar(im, cax=cax, ticks=[0.0, 0.25, 0.5, 0.75, 1.0])\n",
    "    \n",
    "    return plt.show()"
   ]
  },
  {
   "cell_type": "code",
   "execution_count": 20,
   "metadata": {},
   "outputs": [],
   "source": [
    "# from PIL import Image\n",
    "def saveMask(mask_array, save_dir) :\n",
    "    \n",
    "    mask_array = np.repeat(mask_array[:,:, np.newaxis], 3, axis=2)\n",
    "    \n",
    "    # mask_array[:,:,0] = RED, mask_array[:,:,1] = Green, mask_array[:,:,2] = Blue\n",
    "    idx = np.where(mask_array[:,:,0] == 255)  # Index of label 1 (WM)\n",
    "\n",
    "    # For label 0, leave as black color\n",
    "    # For label 1, set to cyan color: R0G255B255\n",
    "    mask_array[:,:,0].flat[np.ravel_multi_index(idx, mask_array[:,:,0].shape)] = 0\n",
    "    mask_array[:,:,1].flat[np.ravel_multi_index(idx, mask_array[:,:,1].shape)] = 255\n",
    "    mask_array[:,:,2].flat[np.ravel_multi_index(idx, mask_array[:,:,2].shape)] = 255\n",
    "\n",
    "    mask_array = mask_array.astype(np.uint8) # PIL save only accepts uint8 {0,..,255}\n",
    "    save_img = Image.fromarray(mask_array, 'RGB')\n",
    "    save_img.save(save_dir)\n",
    "    print(\"Saved at: \" + save_dir)"
   ]
  },
  {
   "cell_type": "code",
   "execution_count": 21,
   "metadata": {},
   "outputs": [],
   "source": [
    "from skimage.color import hsv2rgb\n",
    "from PIL import Image\n",
    "\n",
    "def saveUniqueMaskImage(maskArray, save_dir) :\n",
    "    '''\n",
    "    Plots post-processed detected Plaques\n",
    "    with the diversity of Colour distingushing\n",
    "    the density of Plaques\n",
    "    \n",
    "    ie. More Diversity of Colour\n",
    "    == More Plaque Count for that certain Plaque type\n",
    "    \n",
    "    Inputs:\n",
    "        maskArray = Numpy Array containing Unique plaque\n",
    "        save_dir  = String for Save Directory\n",
    "    '''\n",
    "    \n",
    "    max_val = np.amax(np.unique(maskArray))\n",
    "#     print(\"Maximum Value = \", max_val)\n",
    "    maskArray = np.asarray(maskArray, dtype=np.float64)\n",
    "    maskArray = np.repeat(maskArray[:,:, np.newaxis], 3, axis=2)\n",
    "\n",
    "    for label in np.unique(maskArray) :\n",
    "\n",
    "        # For label 0, leave as black color (BG)\n",
    "        if label == 0:\n",
    "            continue\n",
    "\n",
    "        idx = np.where(maskArray[:,:,0] == label) \n",
    "\n",
    "        # For label, create HSV space based on unique labels\n",
    "        maskArray[:,:,0].flat[np.ravel_multi_index(idx, maskArray[:,:,0].shape)] = label / max_val\n",
    "        maskArray[:,:,1].flat[np.ravel_multi_index(idx, maskArray[:,:,1].shape)] = label % max_val\n",
    "        maskArray[:,:,2].flat[np.ravel_multi_index(idx, maskArray[:,:,2].shape)] = 1\n",
    "\n",
    "    rgb_maskArray = hsv2rgb(maskArray)\n",
    "    rgb_maskArray = rgb_maskArray * 255\n",
    "    rgb_maskArray = rgb_maskArray.astype(np.uint8) # PIL save only accepts uint8 {0,..,255}\n",
    "    \n",
    "    save_img = Image.fromarray(rgb_maskArray, 'RGB')\n",
    "    save_img.save(save_dir)\n",
    "    print(\"Saved at: \" + save_dir)"
   ]
  },
  {
   "cell_type": "code",
   "execution_count": 22,
   "metadata": {},
   "outputs": [],
   "source": [
    "def classify_blobs(labeled_mask, seg_area) :\n",
    "    \"\"\"\n",
    "    Classifies each certain plaques according to each\n",
    "    Segmentation Area and gives each count\n",
    "    \n",
    "    Input:\n",
    "        labeled_mask (NumPy Array): \n",
    "            contains plaque information \n",
    "            Note: See count_blobs()'s \n",
    "            labeled_mask output for more info\n",
    "        \n",
    "        seg_area (NumPy Array):\n",
    "            contains segmentation information\n",
    "            based on BrainSeg's classification\n",
    "            \n",
    "    Output:\n",
    "        count_dict (Dictionary):\n",
    "            contains number of plaques at each\n",
    "            segmentaion area\n",
    "            \n",
    "        Other Variables:\n",
    "            - Background Count\n",
    "            - WM Count\n",
    "            - GM Count\n",
    "            - Unclassified Count\n",
    "    \"\"\"\n",
    "    \n",
    "    # 0: Background, 1: WM, 2: GM\n",
    "    count_dict = {0: 0, 1: 0, 2: 0, \"uncounted\": 0}\n",
    "    # Loop over unique components\n",
    "    for label in np.unique(labeled_mask) :\n",
    "        if label == 0:\n",
    "            continue\n",
    "            \n",
    "        plaque_loc = np.where(labeled_mask == label)\n",
    "        plaque_area = seg_area[plaque_loc]\n",
    "        indexes, counts = np.unique(plaque_area, return_counts=True)\n",
    "        class_idx = indexes[np.where(counts == np.amax(counts))]\n",
    "        \n",
    "        try:\n",
    "            class_idx = class_idx.item()\n",
    "            count_dict[class_idx] += 1\n",
    "                \n",
    "        except:\n",
    "            count_dict[\"uncounted\"] += 1\n",
    "            \n",
    "    return count_dict, count_dict[0], count_dict[1], count_dict[2], count_dict[\"uncounted\"]"
   ]
  },
  {
   "cell_type": "code",
   "execution_count": 23,
   "metadata": {},
   "outputs": [],
   "source": [
    "# To create CSV containing WSI names for\n",
    "# plaque counting at different regions\n",
    "file = pd.DataFrame({\"WSI_ID\": filenames})\n",
    "file.to_csv(CSV_DIR, index=False)"
   ]
  },
  {
   "cell_type": "code",
   "execution_count": 24,
   "metadata": {},
   "outputs": [],
   "source": [
    "# Using existing CSV\n",
    "file = pd.read_csv(CSV_DIR)\n",
    "filenames = list(file['WSI_ID'])\n",
    "img_class = ['cored', 'diffuse', 'caa']\n",
    "\n",
    "# two hyperparameters (For Plaque-Counting)\n",
    "confidence_thresholds = [0.1, 0.95, 0.9]\n",
    "pixel_thresholds = [100, 1, 200]"
   ]
  },
  {
   "cell_type": "code",
   "execution_count": 25,
   "metadata": {},
   "outputs": [
    {
     "name": "stderr",
     "output_type": "stream",
     "text": [
      "  4%|▍         | 1/24 [00:06<02:25,  6.32s/it]"
     ]
    },
    {
     "name": "stdout",
     "output_type": "stream",
     "text": [
      "Saved at: data_1_40/outputs/masked_plaque/images/NA4900-02_AB01-40_cored.png\n"
     ]
    },
    {
     "name": "stderr",
     "output_type": "stream",
     "text": [
      "\r\n",
      "  8%|▊         | 2/24 [00:13<02:34,  7.04s/it]"
     ]
    },
    {
     "name": "stdout",
     "output_type": "stream",
     "text": [
      "Saved at: data_1_40/outputs/masked_plaque/images/NA4903-02_AB01-40_cored.png\n"
     ]
    },
    {
     "name": "stderr",
     "output_type": "stream",
     "text": [
      "\r\n",
      " 12%|█▎        | 3/24 [00:20<02:26,  6.99s/it]"
     ]
    },
    {
     "name": "stdout",
     "output_type": "stream",
     "text": [
      "Saved at: data_1_40/outputs/masked_plaque/images/NA4905-02_AB01-40_cored.png\n"
     ]
    },
    {
     "name": "stderr",
     "output_type": "stream",
     "text": [
      "\r\n",
      " 17%|█▋        | 4/24 [00:26<02:13,  6.67s/it]"
     ]
    },
    {
     "name": "stdout",
     "output_type": "stream",
     "text": [
      "Saved at: data_1_40/outputs/masked_plaque/images/NA4906-02_AB01-40_cored.png\n"
     ]
    },
    {
     "name": "stderr",
     "output_type": "stream",
     "text": [
      "\r\n",
      " 21%|██        | 5/24 [00:31<01:53,  5.98s/it]"
     ]
    },
    {
     "name": "stdout",
     "output_type": "stream",
     "text": [
      "Saved at: data_1_40/outputs/masked_plaque/images/NA4907-02_AB01-40_cored.png\n"
     ]
    },
    {
     "name": "stderr",
     "output_type": "stream",
     "text": [
      "\r\n",
      " 25%|██▌       | 6/24 [00:35<01:32,  5.12s/it]"
     ]
    },
    {
     "name": "stdout",
     "output_type": "stream",
     "text": [
      "Saved at: data_1_40/outputs/masked_plaque/images/NA4908-02_AB01-40_cored.png\n"
     ]
    },
    {
     "name": "stderr",
     "output_type": "stream",
     "text": [
      "\r\n",
      " 29%|██▉       | 7/24 [00:40<01:26,  5.10s/it]"
     ]
    },
    {
     "name": "stdout",
     "output_type": "stream",
     "text": [
      "Saved at: data_1_40/outputs/masked_plaque/images/NA4909-02_AB01-40_cored.png\n"
     ]
    },
    {
     "name": "stderr",
     "output_type": "stream",
     "text": [
      "\r\n",
      " 33%|███▎      | 8/24 [00:43<01:11,  4.48s/it]"
     ]
    },
    {
     "name": "stdout",
     "output_type": "stream",
     "text": [
      "Saved at: data_1_40/outputs/masked_plaque/images/NA4910-02_AB01-40_cored.png\n"
     ]
    },
    {
     "name": "stderr",
     "output_type": "stream",
     "text": [
      "\r\n",
      " 38%|███▊      | 9/24 [00:47<01:03,  4.23s/it]"
     ]
    },
    {
     "name": "stdout",
     "output_type": "stream",
     "text": [
      "Saved at: data_1_40/outputs/masked_plaque/images/NA4912-02_AB01-40_cored.png\n"
     ]
    },
    {
     "name": "stderr",
     "output_type": "stream",
     "text": [
      "\r\n",
      " 42%|████▏     | 10/24 [00:48<00:48,  3.44s/it]"
     ]
    },
    {
     "name": "stdout",
     "output_type": "stream",
     "text": [
      "Saved at: data_1_40/outputs/masked_plaque/images/NA4913-02_AB01-40_cored.png\n"
     ]
    },
    {
     "name": "stderr",
     "output_type": "stream",
     "text": [
      "\r\n",
      " 46%|████▌     | 11/24 [00:52<00:47,  3.66s/it]"
     ]
    },
    {
     "name": "stdout",
     "output_type": "stream",
     "text": [
      "Saved at: data_1_40/outputs/masked_plaque/images/NA4914-02_AB01-40_cored.png\n"
     ]
    },
    {
     "name": "stderr",
     "output_type": "stream",
     "text": [
      "\r\n",
      " 50%|█████     | 12/24 [00:56<00:44,  3.70s/it]"
     ]
    },
    {
     "name": "stdout",
     "output_type": "stream",
     "text": [
      "Saved at: data_1_40/outputs/masked_plaque/images/NA4915-02_AB01-40_cored.png\n"
     ]
    },
    {
     "name": "stderr",
     "output_type": "stream",
     "text": [
      "\r\n",
      " 54%|█████▍    | 13/24 [00:59<00:36,  3.36s/it]"
     ]
    },
    {
     "name": "stdout",
     "output_type": "stream",
     "text": [
      "Saved at: data_1_40/outputs/masked_plaque/images/NA4916-02_AB01-40_cored.png\n"
     ]
    },
    {
     "name": "stderr",
     "output_type": "stream",
     "text": [
      "\r\n",
      " 58%|█████▊    | 14/24 [01:05<00:40,  4.10s/it]"
     ]
    },
    {
     "name": "stdout",
     "output_type": "stream",
     "text": [
      "Saved at: data_1_40/outputs/masked_plaque/images/NA4917-02_AB01-40_cored.png\n"
     ]
    },
    {
     "name": "stderr",
     "output_type": "stream",
     "text": [
      "\r\n",
      " 62%|██████▎   | 15/24 [01:08<00:34,  3.88s/it]"
     ]
    },
    {
     "name": "stdout",
     "output_type": "stream",
     "text": [
      "Saved at: data_1_40/outputs/masked_plaque/images/NA4919-02_AB01-40_cored.png\n"
     ]
    },
    {
     "name": "stderr",
     "output_type": "stream",
     "text": [
      "\r\n",
      " 67%|██████▋   | 16/24 [01:12<00:30,  3.87s/it]"
     ]
    },
    {
     "name": "stdout",
     "output_type": "stream",
     "text": [
      "Saved at: data_1_40/outputs/masked_plaque/images/NA4920-02_AB01-40_cored.png\n"
     ]
    },
    {
     "name": "stderr",
     "output_type": "stream",
     "text": [
      "\r\n",
      " 71%|███████   | 17/24 [01:16<00:27,  3.89s/it]"
     ]
    },
    {
     "name": "stdout",
     "output_type": "stream",
     "text": [
      "Saved at: data_1_40/outputs/masked_plaque/images/NA4921-02_AB01-40_cored.png\n"
     ]
    },
    {
     "name": "stderr",
     "output_type": "stream",
     "text": [
      "\r\n",
      " 75%|███████▌  | 18/24 [01:21<00:26,  4.36s/it]"
     ]
    },
    {
     "name": "stdout",
     "output_type": "stream",
     "text": [
      "Saved at: data_1_40/outputs/masked_plaque/images/NA4922-02_AB01-40_cored.png\n"
     ]
    },
    {
     "name": "stderr",
     "output_type": "stream",
     "text": [
      "\r\n",
      " 79%|███████▉  | 19/24 [01:26<00:23,  4.65s/it]"
     ]
    },
    {
     "name": "stdout",
     "output_type": "stream",
     "text": [
      "Saved at: data_1_40/outputs/masked_plaque/images/NA4923-02_AB01-40_cored.png\n"
     ]
    },
    {
     "name": "stderr",
     "output_type": "stream",
     "text": [
      "\r\n",
      " 83%|████████▎ | 20/24 [01:30<00:17,  4.40s/it]"
     ]
    },
    {
     "name": "stdout",
     "output_type": "stream",
     "text": [
      "Saved at: data_1_40/outputs/masked_plaque/images/NA4924-02_AB01-40_cored.png\n"
     ]
    },
    {
     "name": "stderr",
     "output_type": "stream",
     "text": [
      "\r\n",
      " 88%|████████▊ | 21/24 [01:34<00:12,  4.25s/it]"
     ]
    },
    {
     "name": "stdout",
     "output_type": "stream",
     "text": [
      "Saved at: data_1_40/outputs/masked_plaque/images/NA4925-02_AB01-40_cored.png\n"
     ]
    },
    {
     "name": "stderr",
     "output_type": "stream",
     "text": [
      "\r\n",
      " 92%|█████████▏| 22/24 [01:38<00:08,  4.10s/it]"
     ]
    },
    {
     "name": "stdout",
     "output_type": "stream",
     "text": [
      "Saved at: data_1_40/outputs/masked_plaque/images/NA4926-02_AB01-40_cored.png\n"
     ]
    },
    {
     "name": "stderr",
     "output_type": "stream",
     "text": [
      "\r\n",
      " 96%|█████████▌| 23/24 [01:42<00:04,  4.01s/it]"
     ]
    },
    {
     "name": "stdout",
     "output_type": "stream",
     "text": [
      "Saved at: data_1_40/outputs/masked_plaque/images/NA4927-02_AB01-40_cored.png\n"
     ]
    },
    {
     "name": "stderr",
     "output_type": "stream",
     "text": [
      "100%|██████████| 24/24 [01:47<00:00,  4.47s/it]\n",
      "  0%|          | 0/24 [00:00<?, ?it/s]"
     ]
    },
    {
     "name": "stdout",
     "output_type": "stream",
     "text": [
      "Saved at: data_1_40/outputs/masked_plaque/images/NA4928-02_AB01-40_cored.png\n",
      "0.1 100\n"
     ]
    },
    {
     "name": "stderr",
     "output_type": "stream",
     "text": [
      "\r\n",
      "  4%|▍         | 1/24 [00:05<02:15,  5.90s/it]"
     ]
    },
    {
     "name": "stdout",
     "output_type": "stream",
     "text": [
      "Saved at: data_1_40/outputs/masked_plaque/images/NA4900-02_AB01-40_diffuse.png\n"
     ]
    },
    {
     "name": "stderr",
     "output_type": "stream",
     "text": [
      "\r\n",
      "  8%|▊         | 2/24 [00:15<02:54,  7.94s/it]"
     ]
    },
    {
     "name": "stdout",
     "output_type": "stream",
     "text": [
      "Saved at: data_1_40/outputs/masked_plaque/images/NA4903-02_AB01-40_diffuse.png\n"
     ]
    },
    {
     "name": "stderr",
     "output_type": "stream",
     "text": [
      "\r\n",
      " 12%|█▎        | 3/24 [00:22<02:42,  7.72s/it]"
     ]
    },
    {
     "name": "stdout",
     "output_type": "stream",
     "text": [
      "Saved at: data_1_40/outputs/masked_plaque/images/NA4905-02_AB01-40_diffuse.png\n"
     ]
    },
    {
     "name": "stderr",
     "output_type": "stream",
     "text": [
      "\r\n",
      " 17%|█▋        | 4/24 [00:28<02:22,  7.12s/it]"
     ]
    },
    {
     "name": "stdout",
     "output_type": "stream",
     "text": [
      "Saved at: data_1_40/outputs/masked_plaque/images/NA4906-02_AB01-40_diffuse.png\n"
     ]
    },
    {
     "name": "stderr",
     "output_type": "stream",
     "text": [
      "\r\n",
      " 21%|██        | 5/24 [00:33<01:59,  6.26s/it]"
     ]
    },
    {
     "name": "stdout",
     "output_type": "stream",
     "text": [
      "Saved at: data_1_40/outputs/masked_plaque/images/NA4907-02_AB01-40_diffuse.png\n"
     ]
    },
    {
     "name": "stderr",
     "output_type": "stream",
     "text": [
      "\r\n",
      " 25%|██▌       | 6/24 [00:36<01:34,  5.23s/it]"
     ]
    },
    {
     "name": "stdout",
     "output_type": "stream",
     "text": [
      "Saved at: data_1_40/outputs/masked_plaque/images/NA4908-02_AB01-40_diffuse.png\n"
     ]
    },
    {
     "name": "stderr",
     "output_type": "stream",
     "text": [
      "\r\n",
      " 29%|██▉       | 7/24 [00:41<01:28,  5.19s/it]"
     ]
    },
    {
     "name": "stdout",
     "output_type": "stream",
     "text": [
      "Saved at: data_1_40/outputs/masked_plaque/images/NA4909-02_AB01-40_diffuse.png\n"
     ]
    },
    {
     "name": "stderr",
     "output_type": "stream",
     "text": [
      "\r\n",
      " 33%|███▎      | 8/24 [00:45<01:12,  4.55s/it]"
     ]
    },
    {
     "name": "stdout",
     "output_type": "stream",
     "text": [
      "Saved at: data_1_40/outputs/masked_plaque/images/NA4910-02_AB01-40_diffuse.png\n"
     ]
    },
    {
     "name": "stderr",
     "output_type": "stream",
     "text": [
      "\r\n",
      " 38%|███▊      | 9/24 [00:48<01:04,  4.29s/it]"
     ]
    },
    {
     "name": "stdout",
     "output_type": "stream",
     "text": [
      "Saved at: data_1_40/outputs/masked_plaque/images/NA4912-02_AB01-40_diffuse.png\n"
     ]
    },
    {
     "name": "stderr",
     "output_type": "stream",
     "text": [
      "\r\n",
      " 42%|████▏     | 10/24 [00:50<00:48,  3.48s/it]"
     ]
    },
    {
     "name": "stdout",
     "output_type": "stream",
     "text": [
      "Saved at: data_1_40/outputs/masked_plaque/images/NA4913-02_AB01-40_diffuse.png\n"
     ]
    },
    {
     "name": "stderr",
     "output_type": "stream",
     "text": [
      "\r\n",
      " 46%|████▌     | 11/24 [00:54<00:47,  3.63s/it]"
     ]
    },
    {
     "name": "stdout",
     "output_type": "stream",
     "text": [
      "Saved at: data_1_40/outputs/masked_plaque/images/NA4914-02_AB01-40_diffuse.png\n"
     ]
    },
    {
     "name": "stderr",
     "output_type": "stream",
     "text": [
      "\r\n",
      " 50%|█████     | 12/24 [00:58<00:44,  3.70s/it]"
     ]
    },
    {
     "name": "stdout",
     "output_type": "stream",
     "text": [
      "Saved at: data_1_40/outputs/masked_plaque/images/NA4915-02_AB01-40_diffuse.png\n"
     ]
    },
    {
     "name": "stderr",
     "output_type": "stream",
     "text": [
      "\r\n",
      " 54%|█████▍    | 13/24 [01:00<00:37,  3.37s/it]"
     ]
    },
    {
     "name": "stdout",
     "output_type": "stream",
     "text": [
      "Saved at: data_1_40/outputs/masked_plaque/images/NA4916-02_AB01-40_diffuse.png\n"
     ]
    },
    {
     "name": "stderr",
     "output_type": "stream",
     "text": [
      "\r\n",
      " 58%|█████▊    | 14/24 [01:05<00:38,  3.80s/it]"
     ]
    },
    {
     "name": "stdout",
     "output_type": "stream",
     "text": [
      "Saved at: data_1_40/outputs/masked_plaque/images/NA4917-02_AB01-40_diffuse.png\n"
     ]
    },
    {
     "name": "stderr",
     "output_type": "stream",
     "text": [
      "\r\n",
      " 62%|██████▎   | 15/24 [01:09<00:33,  3.68s/it]"
     ]
    },
    {
     "name": "stdout",
     "output_type": "stream",
     "text": [
      "Saved at: data_1_40/outputs/masked_plaque/images/NA4919-02_AB01-40_diffuse.png\n"
     ]
    },
    {
     "name": "stderr",
     "output_type": "stream",
     "text": [
      "\r\n",
      " 67%|██████▋   | 16/24 [01:13<00:29,  3.72s/it]"
     ]
    },
    {
     "name": "stdout",
     "output_type": "stream",
     "text": [
      "Saved at: data_1_40/outputs/masked_plaque/images/NA4920-02_AB01-40_diffuse.png\n"
     ]
    },
    {
     "name": "stderr",
     "output_type": "stream",
     "text": [
      "\r\n",
      " 71%|███████   | 17/24 [01:16<00:26,  3.76s/it]"
     ]
    },
    {
     "name": "stdout",
     "output_type": "stream",
     "text": [
      "Saved at: data_1_40/outputs/masked_plaque/images/NA4921-02_AB01-40_diffuse.png\n"
     ]
    },
    {
     "name": "stderr",
     "output_type": "stream",
     "text": [
      "\r\n",
      " 75%|███████▌  | 18/24 [01:21<00:24,  4.06s/it]"
     ]
    },
    {
     "name": "stdout",
     "output_type": "stream",
     "text": [
      "Saved at: data_1_40/outputs/masked_plaque/images/NA4922-02_AB01-40_diffuse.png\n"
     ]
    },
    {
     "name": "stderr",
     "output_type": "stream",
     "text": [
      "\r\n",
      " 79%|███████▉  | 19/24 [01:26<00:21,  4.26s/it]"
     ]
    },
    {
     "name": "stdout",
     "output_type": "stream",
     "text": [
      "Saved at: data_1_40/outputs/masked_plaque/images/NA4923-02_AB01-40_diffuse.png\n"
     ]
    },
    {
     "name": "stderr",
     "output_type": "stream",
     "text": [
      "\r\n",
      " 83%|████████▎ | 20/24 [01:30<00:16,  4.18s/it]"
     ]
    },
    {
     "name": "stdout",
     "output_type": "stream",
     "text": [
      "Saved at: data_1_40/outputs/masked_plaque/images/NA4924-02_AB01-40_diffuse.png\n"
     ]
    },
    {
     "name": "stderr",
     "output_type": "stream",
     "text": [
      "\r\n",
      " 88%|████████▊ | 21/24 [01:33<00:11,  3.90s/it]"
     ]
    },
    {
     "name": "stdout",
     "output_type": "stream",
     "text": [
      "Saved at: data_1_40/outputs/masked_plaque/images/NA4925-02_AB01-40_diffuse.png\n"
     ]
    },
    {
     "name": "stderr",
     "output_type": "stream",
     "text": [
      "\r\n",
      " 92%|█████████▏| 22/24 [01:37<00:07,  3.76s/it]"
     ]
    },
    {
     "name": "stdout",
     "output_type": "stream",
     "text": [
      "Saved at: data_1_40/outputs/masked_plaque/images/NA4926-02_AB01-40_diffuse.png\n"
     ]
    },
    {
     "name": "stderr",
     "output_type": "stream",
     "text": [
      "\r\n",
      " 96%|█████████▌| 23/24 [01:40<00:03,  3.77s/it]"
     ]
    },
    {
     "name": "stdout",
     "output_type": "stream",
     "text": [
      "Saved at: data_1_40/outputs/masked_plaque/images/NA4927-02_AB01-40_diffuse.png\n"
     ]
    },
    {
     "name": "stderr",
     "output_type": "stream",
     "text": [
      "100%|██████████| 24/24 [01:45<00:00,  4.41s/it]\n",
      "  0%|          | 0/24 [00:00<?, ?it/s]"
     ]
    },
    {
     "name": "stdout",
     "output_type": "stream",
     "text": [
      "Saved at: data_1_40/outputs/masked_plaque/images/NA4928-02_AB01-40_diffuse.png\n",
      "0.95 1\n"
     ]
    },
    {
     "name": "stderr",
     "output_type": "stream",
     "text": [
      "\r\n",
      "  4%|▍         | 1/24 [00:05<02:06,  5.49s/it]"
     ]
    },
    {
     "name": "stdout",
     "output_type": "stream",
     "text": [
      "Saved at: data_1_40/outputs/masked_plaque/images/NA4900-02_AB01-40_caa.png\n"
     ]
    },
    {
     "name": "stderr",
     "output_type": "stream",
     "text": [
      "\r\n",
      "  8%|▊         | 2/24 [00:12<02:18,  6.30s/it]"
     ]
    },
    {
     "name": "stdout",
     "output_type": "stream",
     "text": [
      "Saved at: data_1_40/outputs/masked_plaque/images/NA4903-02_AB01-40_caa.png\n"
     ]
    },
    {
     "name": "stderr",
     "output_type": "stream",
     "text": [
      "\r\n",
      " 12%|█▎        | 3/24 [00:20<02:26,  6.98s/it]"
     ]
    },
    {
     "name": "stdout",
     "output_type": "stream",
     "text": [
      "Saved at: data_1_40/outputs/masked_plaque/images/NA4905-02_AB01-40_caa.png\n"
     ]
    },
    {
     "name": "stderr",
     "output_type": "stream",
     "text": [
      "\r\n",
      " 17%|█▋        | 4/24 [00:26<02:14,  6.72s/it]"
     ]
    },
    {
     "name": "stdout",
     "output_type": "stream",
     "text": [
      "Saved at: data_1_40/outputs/masked_plaque/images/NA4906-02_AB01-40_caa.png\n"
     ]
    },
    {
     "name": "stderr",
     "output_type": "stream",
     "text": [
      "\r\n",
      " 21%|██        | 5/24 [00:31<01:54,  6.05s/it]"
     ]
    },
    {
     "name": "stdout",
     "output_type": "stream",
     "text": [
      "Saved at: data_1_40/outputs/masked_plaque/images/NA4907-02_AB01-40_caa.png\n"
     ]
    },
    {
     "name": "stderr",
     "output_type": "stream",
     "text": [
      "\r\n",
      " 25%|██▌       | 6/24 [00:40<02:07,  7.10s/it]"
     ]
    },
    {
     "name": "stdout",
     "output_type": "stream",
     "text": [
      "Saved at: data_1_40/outputs/masked_plaque/images/NA4908-02_AB01-40_caa.png\n"
     ]
    },
    {
     "name": "stderr",
     "output_type": "stream",
     "text": [
      "\r\n",
      " 29%|██▉       | 7/24 [00:45<01:49,  6.43s/it]"
     ]
    },
    {
     "name": "stdout",
     "output_type": "stream",
     "text": [
      "Saved at: data_1_40/outputs/masked_plaque/images/NA4909-02_AB01-40_caa.png\n"
     ]
    },
    {
     "name": "stderr",
     "output_type": "stream",
     "text": [
      "\r\n",
      " 33%|███▎      | 8/24 [00:48<01:26,  5.38s/it]"
     ]
    },
    {
     "name": "stdout",
     "output_type": "stream",
     "text": [
      "Saved at: data_1_40/outputs/masked_plaque/images/NA4910-02_AB01-40_caa.png\n"
     ]
    },
    {
     "name": "stderr",
     "output_type": "stream",
     "text": [
      "\r\n",
      " 38%|███▊      | 9/24 [00:52<01:12,  4.85s/it]"
     ]
    },
    {
     "name": "stdout",
     "output_type": "stream",
     "text": [
      "Saved at: data_1_40/outputs/masked_plaque/images/NA4912-02_AB01-40_caa.png\n"
     ]
    },
    {
     "name": "stderr",
     "output_type": "stream",
     "text": [
      "\r\n",
      " 42%|████▏     | 10/24 [00:53<00:54,  3.87s/it]"
     ]
    },
    {
     "name": "stdout",
     "output_type": "stream",
     "text": [
      "Saved at: data_1_40/outputs/masked_plaque/images/NA4913-02_AB01-40_caa.png\n"
     ]
    },
    {
     "name": "stderr",
     "output_type": "stream",
     "text": [
      "\r\n",
      " 46%|████▌     | 11/24 [00:59<00:57,  4.42s/it]"
     ]
    },
    {
     "name": "stdout",
     "output_type": "stream",
     "text": [
      "Saved at: data_1_40/outputs/masked_plaque/images/NA4914-02_AB01-40_caa.png\n"
     ]
    },
    {
     "name": "stderr",
     "output_type": "stream",
     "text": [
      "\r\n",
      " 50%|█████     | 12/24 [01:03<00:50,  4.24s/it]"
     ]
    },
    {
     "name": "stdout",
     "output_type": "stream",
     "text": [
      "Saved at: data_1_40/outputs/masked_plaque/images/NA4915-02_AB01-40_caa.png\n"
     ]
    },
    {
     "name": "stderr",
     "output_type": "stream",
     "text": [
      "\r\n",
      " 54%|█████▍    | 13/24 [01:06<00:41,  3.74s/it]"
     ]
    },
    {
     "name": "stdout",
     "output_type": "stream",
     "text": [
      "Saved at: data_1_40/outputs/masked_plaque/images/NA4916-02_AB01-40_caa.png\n"
     ]
    },
    {
     "name": "stderr",
     "output_type": "stream",
     "text": [
      "\r\n",
      " 58%|█████▊    | 14/24 [01:15<00:54,  5.48s/it]"
     ]
    },
    {
     "name": "stdout",
     "output_type": "stream",
     "text": [
      "Saved at: data_1_40/outputs/masked_plaque/images/NA4917-02_AB01-40_caa.png\n"
     ]
    },
    {
     "name": "stderr",
     "output_type": "stream",
     "text": [
      "\r\n",
      " 62%|██████▎   | 15/24 [01:20<00:47,  5.23s/it]"
     ]
    },
    {
     "name": "stdout",
     "output_type": "stream",
     "text": [
      "Saved at: data_1_40/outputs/masked_plaque/images/NA4919-02_AB01-40_caa.png\n"
     ]
    },
    {
     "name": "stderr",
     "output_type": "stream",
     "text": [
      "\r\n",
      " 67%|██████▋   | 16/24 [01:24<00:38,  4.87s/it]"
     ]
    },
    {
     "name": "stdout",
     "output_type": "stream",
     "text": [
      "Saved at: data_1_40/outputs/masked_plaque/images/NA4920-02_AB01-40_caa.png\n"
     ]
    },
    {
     "name": "stderr",
     "output_type": "stream",
     "text": [
      "\r\n",
      " 71%|███████   | 17/24 [01:28<00:32,  4.59s/it]"
     ]
    },
    {
     "name": "stdout",
     "output_type": "stream",
     "text": [
      "Saved at: data_1_40/outputs/masked_plaque/images/NA4921-02_AB01-40_caa.png\n"
     ]
    },
    {
     "name": "stderr",
     "output_type": "stream",
     "text": [
      "\r\n",
      " 75%|███████▌  | 18/24 [01:35<00:33,  5.52s/it]"
     ]
    },
    {
     "name": "stdout",
     "output_type": "stream",
     "text": [
      "Saved at: data_1_40/outputs/masked_plaque/images/NA4922-02_AB01-40_caa.png\n"
     ]
    },
    {
     "name": "stderr",
     "output_type": "stream",
     "text": [
      "\r\n",
      " 79%|███████▉  | 19/24 [01:39<00:24,  4.97s/it]"
     ]
    },
    {
     "name": "stdout",
     "output_type": "stream",
     "text": [
      "Saved at: data_1_40/outputs/masked_plaque/images/NA4923-02_AB01-40_caa.png\n"
     ]
    },
    {
     "name": "stderr",
     "output_type": "stream",
     "text": [
      "\r\n",
      " 83%|████████▎ | 20/24 [01:44<00:20,  5.08s/it]"
     ]
    },
    {
     "name": "stdout",
     "output_type": "stream",
     "text": [
      "Saved at: data_1_40/outputs/masked_plaque/images/NA4924-02_AB01-40_caa.png\n"
     ]
    },
    {
     "name": "stderr",
     "output_type": "stream",
     "text": [
      "\r\n",
      " 88%|████████▊ | 21/24 [01:48<00:14,  4.67s/it]"
     ]
    },
    {
     "name": "stdout",
     "output_type": "stream",
     "text": [
      "Saved at: data_1_40/outputs/masked_plaque/images/NA4925-02_AB01-40_caa.png\n"
     ]
    },
    {
     "name": "stderr",
     "output_type": "stream",
     "text": [
      "\r\n",
      " 92%|█████████▏| 22/24 [01:52<00:08,  4.30s/it]"
     ]
    },
    {
     "name": "stdout",
     "output_type": "stream",
     "text": [
      "Saved at: data_1_40/outputs/masked_plaque/images/NA4926-02_AB01-40_caa.png\n"
     ]
    },
    {
     "name": "stderr",
     "output_type": "stream",
     "text": [
      "\r\n",
      " 96%|█████████▌| 23/24 [01:56<00:04,  4.26s/it]"
     ]
    },
    {
     "name": "stdout",
     "output_type": "stream",
     "text": [
      "Saved at: data_1_40/outputs/masked_plaque/images/NA4927-02_AB01-40_caa.png\n"
     ]
    },
    {
     "name": "stderr",
     "output_type": "stream",
     "text": [
      "100%|██████████| 24/24 [02:01<00:00,  5.07s/it]"
     ]
    },
    {
     "name": "stdout",
     "output_type": "stream",
     "text": [
      "Saved at: data_1_40/outputs/masked_plaque/images/NA4928-02_AB01-40_caa.png\n",
      "0.9 200\n"
     ]
    },
    {
     "name": "stderr",
     "output_type": "stream",
     "text": [
      "\n"
     ]
    }
   ],
   "source": [
    "# Post-process Plaque Confidence\n",
    "# and Count Plaques at each region\n",
    "\n",
    "new_file = file\n",
    "for index in [0,1,2]:\n",
    "    preds = np.zeros(len(file))\n",
    "    confidence_threshold = confidence_thresholds[index]\n",
    "    pixel_threshold = pixel_thresholds[index]\n",
    "    \n",
    "    bg = np.zeros(len(file))\n",
    "    wm = np.zeros(len(file))\n",
    "    gm = np.zeros(len(file))\n",
    "    unknowns = np.zeros(len(file))\n",
    "\n",
    "    for i, WSIname in enumerate(tqdm(filenames)):\n",
    "        try:\n",
    "            heatmap_path = HEATMAP_DIR+'new_WSI_heatmap_{}.npy'.format(WSIname)\n",
    "            h = np.load(heatmap_path)\n",
    "\n",
    "        except:\n",
    "            heatmap_path = HEATMAP_DIR+'{}.npy'.format(WSIname)\n",
    "            h = np.load(heatmap_path)\n",
    "            seg_path = POST_NP_DIR+'{}.npy'.format(WSIname)\n",
    "            seg = np.load(seg_path)\n",
    "\n",
    "        mask = h[index] > confidence_threshold\n",
    "        mask = mask.astype(np.float32)\n",
    "\n",
    "        kernel = cv2.getStructuringElement(cv2.MORPH_CROSS,(5,5))\n",
    "\n",
    "        # Apply morphological closing, then opening operations \n",
    "        opening = cv2.morphologyEx(mask, cv2.MORPH_OPEN, kernel)\n",
    "        closing = cv2.morphologyEx(opening, cv2.MORPH_CLOSE, kernel)\n",
    "\n",
    "        labels, img_mask, labeled_mask = count_blobs(closing, threshold=pixel_threshold)\n",
    "        counts, bg[i], wm[i], gm[i], unknowns[i] = classify_blobs(labeled_mask, seg)\n",
    "    \n",
    "        save_img = SAVE_IMG_DIR + WSIname \\\n",
    "                    + \"_\" + img_class[index] + \".png\"\n",
    "        save_np = SAVE_NP_DIR + WSIname \\\n",
    "                    + \"_\" + img_class[index] + \".npy\"\n",
    "        np.save(save_np, labeled_mask)\n",
    "        saveUniqueMaskImage(labeled_mask, save_img) # To show Colored Result\n",
    "#         saveMask(img_mask, save_img)  # To show Classification Result\n",
    "        \n",
    "        preds[i] = len(labels)\n",
    "        \n",
    "\n",
    "    print(confidence_threshold, pixel_threshold)\n",
    "\n",
    "    new_file['CNN_{}_count'.format(img_class[index])] = preds\n",
    "    new_file['BG_{}_count'.format(img_class[index])] = bg\n",
    "    new_file['GM_{}_count'.format(img_class[index])] = gm\n",
    "    new_file['WM_{}_count'.format(img_class[index])] = wm\n",
    "    new_file['{}_no-count'.format(img_class[index])] = unknowns\n",
    "    \n",
    "\n",
    "new_file.to_csv(SAVE_DIR+'CNN_vs_CERAD.csv', index=False)"
   ]
  },
  {
   "cell_type": "code",
   "execution_count": null,
   "metadata": {},
   "outputs": [],
   "source": []
  }
 ],
 "metadata": {
  "kernelspec": {
   "display_name": "brainsec",
   "language": "python",
   "name": "python3"
  },
  "language_info": {
   "codemirror_mode": {
    "name": "ipython",
    "version": 3
   },
   "file_extension": ".py",
   "mimetype": "text/x-python",
   "name": "python",
   "nbconvert_exporter": "python",
   "pygments_lexer": "ipython3",
   "version": "3.10.15"
  }
 },
 "nbformat": 4,
 "nbformat_minor": 2
}
