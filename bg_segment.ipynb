{
 "cells": [
  {
   "cell_type": "markdown",
   "metadata": {},
   "source": [
    "# Set up"
   ]
  },
  {
   "cell_type": "code",
   "execution_count": null,
   "metadata": {},
   "outputs": [],
   "source": [
    "from wsi import filter\n",
    "from wsi import slide\n",
    "from wsi import util\n",
    "\n",
    "FILE = 'data/U.svs'"
   ]
  },
  {
   "cell_type": "markdown",
   "metadata": {},
   "source": [
    "# Otsu pipeline"
   ]
  },
  {
   "cell_type": "markdown",
   "metadata": {},
   "source": [
    "Source: [A generalized deep learning framework for whole-slide image segmentation and analysis](https://www.nature.com/articles/s41598-021-90444-8)"
   ]
  },
  {
   "cell_type": "code",
   "execution_count": null,
   "metadata": {},
   "outputs": [
    {
     "name": "stdout",
     "output_type": "stream",
     "text": [
      "RGB                  | Time: 0:00:00.000307  Type: uint8   Shape: (408, 466, 3)\n",
      "Gray                 | Time: 0:00:00.004794  Type: uint8   Shape: (408, 466)\n",
      "Complement           | Time: 0:00:00.000290  Type: uint8   Shape: (408, 466)\n"
     ]
    }
   ],
   "source": [
    "np_img = slide.slide_to_scaled_np_image(FILE, 64)\n",
    "util.display_img(np_img)\n",
    "grayscale = filter.filter_rgb_to_grayscale(np_img)\n",
    "complement = filter.filter_complement(grayscale)\n",
    "util.display_img(complement)"
   ]
  },
  {
   "cell_type": "markdown",
   "metadata": {},
   "source": [
    "Median filtering on RGB image"
   ]
  },
  {
   "cell_type": "code",
   "execution_count": null,
   "metadata": {},
   "outputs": [
    {
     "name": "stdout",
     "output_type": "stream",
     "text": [
      "Median               | Time: 0:00:00.166419  Type: uint8   Shape: (408, 466, 3)\n"
     ]
    }
   ],
   "source": [
    "md = filter.filter_median(np_img, size=5)\n",
    "util.display_img(md)"
   ]
  },
  {
   "cell_type": "code",
   "execution_count": null,
   "metadata": {},
   "outputs": [
    {
     "name": "stdout",
     "output_type": "stream",
     "text": [
      "RGB to HSV           | Time: 0:00:00.038289  Type: float64 Shape: (408, 466, 3)\n",
      "Otsu Threshold       | Time: 0:00:00.009509  Type: uint8   Shape: (408, 466)\n",
      "Binary Dilation      | Time: 0:00:00.011762  Type: uint8   Shape: (408, 466)\n"
     ]
    }
   ],
   "source": [
    "saturation = filter.filter_rgb_to_hsv(md)[:, :, 1]\n",
    "otsu = filter.filter_otsu_threshold(saturation)\n",
    "dilation = filter.filter_binary_dilation(otsu, disk_size=5)\n",
    "util.display_img(dilation)"
   ]
  },
  {
   "cell_type": "code",
   "execution_count": null,
   "metadata": {},
   "outputs": [
    {
     "name": "stdout",
     "output_type": "stream",
     "text": [
      "Mask RGB             | Time: 0:00:00.001847  Type: uint8   Shape: (408, 466, 3)\n"
     ]
    }
   ],
   "source": [
    "util.display_img(util.mask_rgb(np_img, dilation))"
   ]
  },
  {
   "cell_type": "markdown",
   "metadata": {},
   "source": [
    "# Otsu pipeline"
   ]
  },
  {
   "cell_type": "markdown",
   "metadata": {},
   "source": [
    "Source: [A generalized deep learning framework for whole-slide image segmentation and analysis](https://www.nature.com/articles/s41598-021-90444-8)"
   ]
  },
  {
   "cell_type": "code",
   "execution_count": null,
   "metadata": {},
   "outputs": [
    {
     "name": "stdout",
     "output_type": "stream",
     "text": [
      "RGB                  | Time: 0:00:00.000307  Type: uint8   Shape: (408, 466, 3)\n",
      "Gray                 | Time: 0:00:00.004794  Type: uint8   Shape: (408, 466)\n",
      "Complement           | Time: 0:00:00.000290  Type: uint8   Shape: (408, 466)\n"
     ]
    }
   ],
   "source": [
    "FILE = 'data/U.svs'\n",
    "np_img = slide.slide_to_scaled_np_image(FILE, 64)\n",
    "util.display_img(np_img)\n",
    "grayscale = filter.filter_rgb_to_grayscale(np_img)\n",
    "complement = filter.filter_complement(grayscale)\n",
    "util.display_img(complement)"
   ]
  },
  {
   "cell_type": "markdown",
   "metadata": {},
   "source": [
    "Median filtering on RGB image"
   ]
  },
  {
   "cell_type": "code",
   "execution_count": null,
   "metadata": {},
   "outputs": [
    {
     "name": "stdout",
     "output_type": "stream",
     "text": [
      "Median               | Time: 0:00:00.166419  Type: uint8   Shape: (408, 466, 3)\n"
     ]
    }
   ],
   "source": [
    "md = filter.filter_median(np_img, size=5)\n",
    "util.display_img(md)"
   ]
  },
  {
   "cell_type": "code",
   "execution_count": null,
   "metadata": {},
   "outputs": [
    {
     "name": "stdout",
     "output_type": "stream",
     "text": [
      "RGB to HSV           | Time: 0:00:00.038289  Type: float64 Shape: (408, 466, 3)\n",
      "Otsu Threshold       | Time: 0:00:00.009509  Type: uint8   Shape: (408, 466)\n",
      "Binary Dilation      | Time: 0:00:00.011762  Type: uint8   Shape: (408, 466)\n"
     ]
    }
   ],
   "source": [
    "saturation = filter.filter_rgb_to_hsv(md)[:, :, 1]\n",
    "otsu = filter.filter_otsu_threshold(saturation)\n",
    "dilation = filter.filter_binary_dilation(otsu, disk_size=5)\n",
    "util.display_img(dilation)"
   ]
  },
  {
   "cell_type": "code",
   "execution_count": null,
   "metadata": {},
   "outputs": [
    {
     "name": "stdout",
     "output_type": "stream",
     "text": [
      "Mask RGB             | Time: 0:00:00.001847  Type: uint8   Shape: (408, 466, 3)\n"
     ]
    }
   ],
   "source": [
    "util.display_img(util.mask_rgb(np_img, dilation))"
   ]
  },
  {
   "cell_type": "markdown",
   "metadata": {},
   "source": [
    "# Entropy Masker"
   ]
  },
  {
   "cell_type": "markdown",
   "metadata": {},
   "source": [
    "Source: [An automatic entropy method to efficiently mask histology whole-slide images](https://www.ncbi.nlm.nih.gov/pmc/articles/PMC10017682/)"
   ]
  },
  {
   "cell_type": "code",
   "execution_count": null,
   "metadata": {},
   "outputs": [
    {
     "name": "stdout",
     "output_type": "stream",
     "text": [
      "RGB                  | Time: 0:00:00.000383  Type: uint8   Shape: (408, 466, 3)\n",
      "Gray                 | Time: 0:00:00.004572  Type: uint8   Shape: (408, 466)\n"
     ]
    }
   ],
   "source": [
    "FILE = 'data/U.svs'\n",
    "np_img = slide.slide_to_scaled_np_image(FILE, 64)\n",
    "util.display_img(np_img)\n",
    "grayscale = filter.filter_rgb_to_grayscale(np_img)"
   ]
  },
  {
   "cell_type": "code",
   "execution_count": null,
   "metadata": {},
   "outputs": [
    {
     "name": "stdout",
     "output_type": "stream",
     "text": [
      "Entropy              | Time: 0:00:00.102881  Type: uint8   Shape: (408, 466)\n",
      "Mask RGB             | Time: 0:00:00.001055  Type: uint8   Shape: (408, 466, 3)\n"
     ]
    }
   ],
   "source": [
    "entropy = filter.filter_entropy(grayscale, neighborhood=12, threshold=3)\n",
    "util.display_img(entropy)\n",
    "util.display_img(util.mask_rgb(np_img, entropy))"
   ]
  }
 ],
 "metadata": {
  "kernelspec": {
   "display_name": "brainsec",
   "language": "python",
   "name": "python3"
  },
  "language_info": {
   "name": "python",
   "version": "3.10.15"
  }
 },
 "nbformat": 4,
 "nbformat_minor": 2
}
