{
 "cells": [
  {
   "cell_type": "code",
   "execution_count": 16,
   "metadata": {},
   "outputs": [],
   "source": [
    "from wsi import filter\n",
    "from wsi import slide\n",
    "from wsi import util\n",
    "\n",
    "import numpy as np\n",
    "\n",
    "FILE = 'data/U.svs'"
   ]
  },
  {
   "cell_type": "code",
   "execution_count": 3,
   "metadata": {},
   "outputs": [
    {
     "name": "stdout",
     "output_type": "stream",
     "text": [
      "RGB                  | Time: 0:00:00.000311  Type: uint8   Shape: (408, 466, 3)\n"
     ]
    }
   ],
   "source": [
    "np_img = slide.slide_to_scaled_np_image(FILE, 64)"
   ]
  },
  {
   "cell_type": "code",
   "execution_count": 4,
   "metadata": {},
   "outputs": [
    {
     "name": "stdout",
     "output_type": "stream",
     "text": [
      "Gray                 | Time: 0:00:00.008087  Type: uint8   Shape: (408, 466)\n",
      "Complement           | Time: 0:00:00.000291  Type: uint8   Shape: (408, 466)\n"
     ]
    }
   ],
   "source": [
    "grayscale = filter.filter_rgb_to_grayscale(np_img)\n",
    "complement = filter.filter_complement(grayscale)\n",
    "util.display_img(complement)"
   ]
  },
  {
   "cell_type": "markdown",
   "metadata": {},
   "source": [
    "# Simple threshold"
   ]
  },
  {
   "cell_type": "code",
   "execution_count": 5,
   "metadata": {},
   "outputs": [
    {
     "data": {
      "image/png": "[encoded data removed]",
      "text/plain": [
       "<Figure size 640x480 with 1 Axes>"
      ]
     },
     "metadata": {},
     "output_type": "display_data"
    }
   ],
   "source": [
    "util.show_histogram(complement, \"Complement image histogram\", grayscale=True)"
   ]
  },
  {
   "cell_type": "code",
   "execution_count": 6,
   "metadata": {},
   "outputs": [
    {
     "name": "stdout",
     "output_type": "stream",
     "text": [
      "Threshold            | Time: 0:00:00.000162  Type: bool    Shape: (408, 466)\n"
     ]
    }
   ],
   "source": [
    "thresh = filter.filter_threshold(complement, threshold=50)\n",
    "util.display_img(thresh)"
   ]
  },
  {
   "cell_type": "code",
   "execution_count": 7,
   "metadata": {},
   "outputs": [
    {
     "name": "stdout",
     "output_type": "stream",
     "text": [
      "Mask RGB             | Time: 0:00:00.001310  Type: uint8   Shape: (408, 466, 3)\n"
     ]
    }
   ],
   "source": [
    "util.display_img(util.mask_rgb(np_img, thresh))"
   ]
  },
  {
   "cell_type": "markdown",
   "metadata": {},
   "source": [
    "# Otsu threshold"
   ]
  },
  {
   "cell_type": "code",
   "execution_count": 8,
   "metadata": {},
   "outputs": [
    {
     "name": "stdout",
     "output_type": "stream",
     "text": [
      "Otsu Threshold       | Time: 0:00:00.118646  Type: uint8   Shape: (408, 466)\n",
      "Mask RGB             | Time: 0:00:00.001179  Type: uint8   Shape: (408, 466, 3)\n"
     ]
    }
   ],
   "source": [
    "otsu = filter.filter_otsu_threshold(complement)\n",
    "util.display_img(otsu)\n",
    "util.display_img(util.mask_rgb(np_img, otsu))"
   ]
  },
  {
   "cell_type": "markdown",
   "metadata": {},
   "source": [
    "# Binary closing\n",
    "Fill in small holes in binary mask by dialation, then erosion. "
   ]
  },
  {
   "cell_type": "code",
   "execution_count": 9,
   "metadata": {},
   "outputs": [
    {
     "name": "stdout",
     "output_type": "stream",
     "text": [
      "Binary Closing       | Time: 0:00:00.088512  Type: uint8   Shape: (408, 466)\n",
      "Mask RGB             | Time: 0:00:00.001118  Type: uint8   Shape: (408, 466, 3)\n"
     ]
    }
   ],
   "source": [
    "bin_closing = filter.filter_binary_closing(otsu, disk_size=10)\n",
    "util.display_img(bin_closing)\n",
    "util.display_img(util.mask_rgb(np_img, bin_closing))"
   ]
  },
  {
   "cell_type": "markdown",
   "metadata": {},
   "source": [
    "# Binary opening\n",
    "Expand small holes in binary mask by erosion, then dialation."
   ]
  },
  {
   "cell_type": "code",
   "execution_count": 10,
   "metadata": {},
   "outputs": [
    {
     "name": "stdout",
     "output_type": "stream",
     "text": [
      "Binary Opening       | Time: 0:00:00.087682  Type: uint8   Shape: (408, 466)\n",
      "Mask RGB             | Time: 0:00:00.001023  Type: uint8   Shape: (408, 466, 3)\n"
     ]
    }
   ],
   "source": [
    "bin_opening = filter.filter_binary_opening(otsu, disk_size=10)\n",
    "util.display_img(bin_opening)\n",
    "util.display_img(util.mask_rgb(np_img, bin_opening))"
   ]
  },
  {
   "cell_type": "markdown",
   "metadata": {},
   "source": [
    "# Remove small objects"
   ]
  },
  {
   "cell_type": "code",
   "execution_count": 11,
   "metadata": {},
   "outputs": [
    {
     "name": "stdout",
     "output_type": "stream",
     "text": [
      "Remove Small Objs    | Time: 0:00:00.007024  Type: uint8   Shape: (408, 466)\n",
      "Mask RGB             | Time: 0:00:00.000961  Type: uint8   Shape: (408, 466, 3)\n"
     ]
    }
   ],
   "source": [
    "rm_obj = filter.filter_remove_small_objects(otsu)\n",
    "util.display_img(rm_obj)\n",
    "util.display_img(util.mask_rgb(np_img, rm_obj))"
   ]
  },
  {
   "cell_type": "markdown",
   "metadata": {},
   "source": [
    "# Remove small holes"
   ]
  },
  {
   "cell_type": "code",
   "execution_count": 12,
   "metadata": {},
   "outputs": [
    {
     "name": "stderr",
     "output_type": "stream",
     "text": [
      "/Users/oliviashen/Desktop/fall24/rubinet/DeskBrainSec/wsi/filter.py:268: UserWarning: Any labeled images will be returned as a boolean array. Did you mean to use a boolean array?\n",
      "  rem_sm = sk_morphology.remove_small_holes(np_img, area_threshold=min_size)\n"
     ]
    },
    {
     "name": "stdout",
     "output_type": "stream",
     "text": [
      "Remove Small Holes   | Time: 0:00:00.011636  Type: uint8   Shape: (408, 466)\n",
      "Mask RGB             | Time: 0:00:00.001674  Type: uint8   Shape: (408, 466, 3)\n"
     ]
    }
   ],
   "source": [
    "rm_hole = filter.filter_remove_small_holes(otsu)\n",
    "util.display_img(rm_hole)\n",
    "util.display_img(util.mask_rgb(np_img, rm_hole))"
   ]
  },
  {
   "cell_type": "markdown",
   "metadata": {},
   "source": [
    "# RGB to HED color space\n",
    "- H = hematosylin, dyes nucleic acids purple-blue,\n",
    "- E = eosin, dyes tissues pink\n",
    "- D = diaminobenzoate, dyes amyloid plaques brown"
   ]
  },
  {
   "cell_type": "markdown",
   "metadata": {},
   "source": [
    "Extract a sample patch from the WSI:"
   ]
  },
  {
   "cell_type": "code",
   "execution_count": 13,
   "metadata": {},
   "outputs": [],
   "source": [
    "import skimage.filters as sk_filters"
   ]
  },
  {
   "cell_type": "code",
   "execution_count": 14,
   "metadata": {},
   "outputs": [],
   "source": [
    "def read_patch(filepath, scale):\n",
    "  svs = slide.open_slide(filepath)\n",
    "  w, h = svs.dimensions\n",
    "  location = (int(w/2), int(h/2))\n",
    "  size_factor = scale * 10\n",
    "  size = (int(w/size_factor), int(h/size_factor))\n",
    "  level = svs.get_best_level_for_downsample(scale)\n",
    "  return svs.read_region(location, level, size).convert('RGB')"
   ]
  },
  {
   "cell_type": "code",
   "execution_count": 15,
   "metadata": {},
   "outputs": [
    {
     "name": "stdout",
     "output_type": "stream",
     "text": [
      "RGB                  | Time: 0:00:00.000686  Type: uint8   Shape: (653, 747, 3)\n"
     ]
    }
   ],
   "source": [
    "patch = util.pil_to_np_rgb(read_patch(FILE, 4))\n",
    "util.display_img(patch)"
   ]
  },
  {
   "cell_type": "markdown",
   "metadata": {},
   "source": [
    "Filter for diaminobenzoate channel (indicates amyloid plaques)"
   ]
  },
  {
   "cell_type": "code",
   "execution_count": 17,
   "metadata": {},
   "outputs": [
    {
     "name": "stdout",
     "output_type": "stream",
     "text": [
      "RGB to HED           | Time: 0:00:00.045841  Type: uint8   Shape: (653, 747, 3)\n",
      "HED to DAB           | Time: 0:00:00.003890  Type: uint8   Shape: (653, 747)\n"
     ]
    }
   ],
   "source": [
    "hed_patch = filter.filter_rgb_to_hed(patch)\n",
    "dab = filter.filter_hed_to_dab(hed_patch)\n",
    "dab = np.astype(sk_filters.gaussian(dab) * 255, \"uint8\")\n",
    "util.display_img(dab)"
   ]
  },
  {
   "cell_type": "code",
   "execution_count": 18,
   "metadata": {},
   "outputs": [
    {
     "data": {
      "image/png": "[encoded data removed]",
      "text/plain": [
       "<Figure size 640x480 with 1 Axes>"
      ]
     },
     "metadata": {},
     "output_type": "display_data"
    },
    {
     "name": "stdout",
     "output_type": "stream",
     "text": [
      "Threshold            | Time: 0:00:00.000102  Type: bool    Shape: (653, 747)\n",
      "Mask RGB             | Time: 0:00:00.001484  Type: uint8   Shape: (653, 747, 3)\n"
     ]
    }
   ],
   "source": [
    "util.show_histogram(dab, \"Diaminobenzoate channel historgram\", grayscale=True)\n",
    "# util.display_img(filter.filter_threshold(dab, 50))\n",
    "dab_mask = filter.filter_threshold(dab, 100)\n",
    "util.display_img(dab_mask)\n",
    "util.display_img(util.mask_rgb(patch, dab_mask))"
   ]
  },
  {
   "cell_type": "code",
   "execution_count": 19,
   "metadata": {},
   "outputs": [
    {
     "name": "stdout",
     "output_type": "stream",
     "text": [
      "HED to Hematoxylin   | Time: 0:00:00.006436  Type: uint8   Shape: (653, 747)\n"
     ]
    }
   ],
   "source": [
    "hema = filter.filter_hed_to_hematoxylin(hed_patch)\n",
    "hema = sk_filters.gaussian(hema)\n",
    "util.display_img(hema)\n",
    "#plaque = np.clip(dab - (hema / 2), 0, 255)\n",
    "#util.display_img(plaque)"
   ]
  }
 ],
 "metadata": {
  "kernelspec": {
   "display_name": "brainsec",
   "language": "python",
   "name": "python3"
  },
  "language_info": {
   "codemirror_mode": {
    "name": "ipython",
    "version": 3
   },
   "file_extension": ".py",
   "mimetype": "text/x-python",
   "name": "python",
   "nbconvert_exporter": "python",
   "pygments_lexer": "ipython3",
   "version": "3.10.15"
  }
 },
 "nbformat": 4,
 "nbformat_minor": 2
}
