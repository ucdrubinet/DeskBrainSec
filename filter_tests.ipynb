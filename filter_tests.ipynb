{
 "cells": [
  {
   "cell_type": "markdown",
   "metadata": {},
   "source": [
    "# Set up"
   ]
  },
  {
   "cell_type": "code",
   "execution_count": 1,
   "metadata": {},
   "outputs": [],
   "source": [
    "from wsi import filter\n",
    "from wsi import slide\n",
    "from wsi import util\n",
    "\n",
    "import numpy as np\n",
    "\n",
    "FILE = 'data/U.svs'"
   ]
  },
  {
   "cell_type": "code",
   "execution_count": 2,
   "metadata": {},
   "outputs": [
    {
     "name": "stdout",
     "output_type": "stream",
     "text": [
      "RGB                  | Time: 0:00:00.000304  Type: uint8   Shape: (408, 466, 3)\n"
     ]
    }
   ],
   "source": [
    "np_img = slide.slide_to_scaled_np_image(FILE, 64)"
   ]
  },
  {
   "cell_type": "code",
   "execution_count": 3,
   "metadata": {},
   "outputs": [
    {
     "name": "stdout",
     "output_type": "stream",
     "text": [
      "Gray                 | Time: 0:00:00.004835  Type: uint8   Shape: (408, 466)\n",
      "Complement           | Time: 0:00:00.000170  Type: uint8   Shape: (408, 466)\n"
     ]
    }
   ],
   "source": [
    "grayscale = filter.filter_rgb_to_grayscale(np_img)\n",
    "complement = filter.filter_complement(grayscale)\n",
    "util.display_img(complement)"
   ]
  },
  {
   "cell_type": "markdown",
   "metadata": {},
   "source": [
    "# Testing filters"
   ]
  },
  {
   "cell_type": "markdown",
   "metadata": {},
   "source": [
    "## Simple threshold"
   ]
  },
  {
   "cell_type": "code",
   "execution_count": 5,
   "metadata": {},
   "outputs": [
    {
     "data": {
      "image/png": "[encoded data removed]",
      "text/plain": [
       "<Figure size 640x480 with 1 Axes>"
      ]
     },
     "metadata": {},
     "output_type": "display_data"
    }
   ],
   "source": [
    "util.show_histogram(complement, \"Complement image histogram\", grayscale=True)"
   ]
  },
  {
   "cell_type": "code",
   "execution_count": 6,
   "metadata": {},
   "outputs": [
    {
     "name": "stdout",
     "output_type": "stream",
     "text": [
      "Threshold            | Time: 0:00:00.000130  Type: bool    Shape: (408, 466)\n"
     ]
    }
   ],
   "source": [
    "thresh = filter.filter_threshold(complement, threshold=50)\n",
    "util.display_img(thresh)"
   ]
  },
  {
   "cell_type": "code",
   "execution_count": 7,
   "metadata": {},
   "outputs": [
    {
     "name": "stdout",
     "output_type": "stream",
     "text": [
      "Mask RGB             | Time: 0:00:00.002092  Type: uint8   Shape: (408, 466, 3)\n"
     ]
    }
   ],
   "source": [
    "util.display_img(util.mask_rgb(np_img, thresh))"
   ]
  },
  {
   "cell_type": "markdown",
   "metadata": {},
   "source": [
    "## Otsu threshold"
   ]
  },
  {
   "cell_type": "code",
   "execution_count": 8,
   "metadata": {},
   "outputs": [
    {
     "name": "stdout",
     "output_type": "stream",
     "text": [
      "Otsu Threshold       | Time: 0:00:00.097967  Type: uint8   Shape: (408, 466)\n",
      "Mask RGB             | Time: 0:00:00.001225  Type: uint8   Shape: (408, 466, 3)\n"
     ]
    }
   ],
   "source": [
    "otsu = filter.filter_otsu_threshold(complement)\n",
    "util.display_img(otsu)\n",
    "util.display_img(util.mask_rgb(np_img, otsu))"
   ]
  },
  {
   "cell_type": "markdown",
   "metadata": {},
   "source": [
    "## Binary closing\n",
    "Fill in small holes in binary mask by dialation, then erosion. "
   ]
  },
  {
   "cell_type": "code",
   "execution_count": 9,
   "metadata": {},
   "outputs": [
    {
     "name": "stdout",
     "output_type": "stream",
     "text": [
      "Binary Closing       | Time: 0:00:00.082277  Type: uint8   Shape: (408, 466)\n",
      "Mask RGB             | Time: 0:00:00.001120  Type: uint8   Shape: (408, 466, 3)\n"
     ]
    }
   ],
   "source": [
    "bin_closing = filter.filter_binary_closing(otsu, disk_size=10)\n",
    "util.display_img(bin_closing)\n",
    "util.display_img(util.mask_rgb(np_img, bin_closing))"
   ]
  },
  {
   "cell_type": "markdown",
   "metadata": {},
   "source": [
    "## Binary opening\n",
    "Expand small holes in binary mask by erosion, then dialation."
   ]
  },
  {
   "cell_type": "code",
   "execution_count": 10,
   "metadata": {},
   "outputs": [
    {
     "name": "stdout",
     "output_type": "stream",
     "text": [
      "Binary Opening       | Time: 0:00:00.081843  Type: uint8   Shape: (408, 466)\n",
      "Mask RGB             | Time: 0:00:00.001094  Type: uint8   Shape: (408, 466, 3)\n"
     ]
    }
   ],
   "source": [
    "bin_opening = filter.filter_binary_opening(otsu, disk_size=10)\n",
    "util.display_img(bin_opening)\n",
    "util.display_img(util.mask_rgb(np_img, bin_opening))"
   ]
  },
  {
   "cell_type": "markdown",
   "metadata": {},
   "source": [
    "## Remove small objects"
   ]
  },
  {
   "cell_type": "code",
   "execution_count": 11,
   "metadata": {},
   "outputs": [
    {
     "name": "stdout",
     "output_type": "stream",
     "text": [
      "Remove Small Objs    | Time: 0:00:00.004858  Type: uint8   Shape: (408, 466)\n",
      "Mask RGB             | Time: 0:00:00.001066  Type: uint8   Shape: (408, 466, 3)\n"
     ]
    }
   ],
   "source": [
    "rm_obj = filter.filter_remove_small_objects(otsu)\n",
    "util.display_img(rm_obj)\n",
    "util.display_img(util.mask_rgb(np_img, rm_obj))"
   ]
  },
  {
   "cell_type": "markdown",
   "metadata": {},
   "source": [
    "## Remove small holes"
   ]
  },
  {
   "cell_type": "code",
   "execution_count": 12,
   "metadata": {},
   "outputs": [
    {
     "name": "stderr",
     "output_type": "stream",
     "text": [
      "/Users/oliviashen/Desktop/fall24/rubinet/DeskBrainSec/wsi/filter.py:268: UserWarning: Any labeled images will be returned as a boolean array. Did you mean to use a boolean array?\n",
      "  rem_sm = sk_morphology.remove_small_holes(np_img, area_threshold=min_size)\n"
     ]
    },
    {
     "name": "stdout",
     "output_type": "stream",
     "text": [
      "Remove Small Holes   | Time: 0:00:00.006491  Type: uint8   Shape: (408, 466)\n",
      "Mask RGB             | Time: 0:00:00.001045  Type: uint8   Shape: (408, 466, 3)\n"
     ]
    }
   ],
   "source": [
    "rm_hole = filter.filter_remove_small_holes(otsu)\n",
    "util.display_img(rm_hole)\n",
    "util.display_img(util.mask_rgb(np_img, rm_hole))"
   ]
  },
  {
   "cell_type": "markdown",
   "metadata": {},
   "source": [
    "# Plaque segmentation with HED color space\n",
    "- H = hematosylin, dyes nucleic acids purple-blue,\n",
    "- E = eosin, dyes tissues pink\n",
    "- D = diaminobenzoate, dyes amyloid plaques brown"
   ]
  },
  {
   "cell_type": "markdown",
   "metadata": {},
   "source": [
    "Extract a sample tile generated from tiling script:"
   ]
  },
  {
   "cell_type": "code",
   "execution_count": 4,
   "metadata": {},
   "outputs": [
    {
     "name": "stdout",
     "output_type": "stream",
     "text": [
      "RGB                  | Time: 0:00:00.063647  Type: uint8   Shape: (2048, 2048, 3)\n"
     ]
    }
   ],
   "source": [
    "from PIL import Image\n",
    "\n",
    "sample = Image.open('tiles/U/0/6/7.jpg')\n",
    "sample = util.pil_to_np_rgb(sample)\n",
    "util.display_img(sample)"
   ]
  },
  {
   "cell_type": "markdown",
   "metadata": {},
   "source": [
    "Filter for diaminobenzoate channel (indicates amyloid plaques)"
   ]
  },
  {
   "cell_type": "code",
   "execution_count": 5,
   "metadata": {},
   "outputs": [
    {
     "name": "stdout",
     "output_type": "stream",
     "text": [
      "RGB to HED           | Time: 0:00:00.282377  Type: uint8   Shape: (2048, 2048, 3)\n",
      "HED to DAB           | Time: 0:00:00.036570  Type: uint8   Shape: (2048, 2048)\n"
     ]
    }
   ],
   "source": [
    "hed_patch = filter.filter_rgb_to_hed(sample)\n",
    "dab = filter.filter_hed_to_dab(hed_patch)\n",
    "util.display_img(dab)"
   ]
  },
  {
   "cell_type": "markdown",
   "metadata": {},
   "source": [
    "Apply Gaussian blur to de-noise DAB channel."
   ]
  },
  {
   "cell_type": "code",
   "execution_count": 6,
   "metadata": {},
   "outputs": [
    {
     "name": "stdout",
     "output_type": "stream",
     "text": [
      "Gaussian             | Time: 0:00:00.158635  Type: uint8   Shape: (2048, 2048)\n"
     ]
    }
   ],
   "source": [
    "dab = filter.filter_gaussian(dab, sigma=2)\n",
    "util.display_img(dab)"
   ]
  },
  {
   "cell_type": "markdown",
   "metadata": {},
   "source": [
    "Pick a pixel value threshold based on histogram. 100 seems to filter out most non-plaque areas."
   ]
  },
  {
   "cell_type": "code",
   "execution_count": 7,
   "metadata": {},
   "outputs": [
    {
     "data": {
      "image/png": "[encoded data removed]",
      "text/plain": [
       "<Figure size 640x480 with 1 Axes>"
      ]
     },
     "metadata": {},
     "output_type": "display_data"
    }
   ],
   "source": [
    "util.show_histogram(dab, \"Diaminobenzoate channel historgram\", grayscale=True)"
   ]
  },
  {
   "cell_type": "markdown",
   "metadata": {},
   "source": [
    "Apply threshold."
   ]
  },
  {
   "cell_type": "code",
   "execution_count": 8,
   "metadata": {},
   "outputs": [
    {
     "name": "stdout",
     "output_type": "stream",
     "text": [
      "Threshold            | Time: 0:00:00.000692  Type: bool    Shape: (2048, 2048)\n",
      "Mask RGB             | Time: 0:00:00.014790  Type: uint8   Shape: (2048, 2048, 3)\n"
     ]
    }
   ],
   "source": [
    "dab_mask = filter.filter_threshold(dab, 100)\n",
    "util.display_img(dab_mask)\n",
    "util.display_img(util.mask_rgb(sample, dab_mask))"
   ]
  }
 ],
 "metadata": {
  "kernelspec": {
   "display_name": "brainsec",
   "language": "python",
   "name": "python3"
  },
  "language_info": {
   "codemirror_mode": {
    "name": "ipython",
    "version": 3
   },
   "file_extension": ".py",
   "mimetype": "text/x-python",
   "name": "python",
   "nbconvert_exporter": "python",
   "pygments_lexer": "ipython3",
   "version": "3.10.15"
  }
 },
 "nbformat": 4,
 "nbformat_minor": 2
}
