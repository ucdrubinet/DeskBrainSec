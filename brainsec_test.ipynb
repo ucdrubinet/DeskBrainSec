{
 "cells": [
  {
   "cell_type": "markdown",
   "metadata": {},
   "source": [
    "# Setup"
   ]
  },
  {
   "cell_type": "code",
   "execution_count": 15,
   "metadata": {},
   "outputs": [],
   "source": [
    "import time, os, glob\n",
    "\n",
    "import torch\n",
    "torch.manual_seed(0)\n",
    "import torch.nn as nn\n",
    "import torchvision\n",
    "from torchvision import transforms\n",
    "\n",
    "import numpy as np\n",
    "import matplotlib.pyplot as plt\n",
    "from mpl_toolkits.axes_grid1 import make_axes_locatable\n",
    "from PIL import Image\n",
    "from tqdm import tqdm\n",
    "import copy\n",
    "import csv\n",
    "\n",
    "from training.model import *\n",
    "from training.datasets import *\n",
    "from inference.heatmap import *"
   ]
  },
  {
   "cell_type": "code",
   "execution_count": 16,
   "metadata": {},
   "outputs": [],
   "source": [
    "DEBUG = True\n",
    "TILE_DIR = 'tiles2/'\n",
    "MODEL_PLAQ_DIR = 'brainsec_models/CNN_model_parameters.pkl'\n",
    "MODEL_SEG_DIR = 'brainsec_models/ResNet18_19.pkl'\n",
    "SAVE_PLAQ_DIR = 'brainsec_outputs/heatmaps/'\n",
    "TISSUE_PRESENCE_FILE = 'tissue_presence.csv'\n",
    "# BrainSec\n",
    "SAVE_IMG_DIR = 'brainsec_outputs/images/'\n",
    "SAVE_NP_DIR = 'brainsec_outputs/numpy/'\n",
    "\n",
    "IMG_SIZE = 1536\n",
    "STRIDE = 128\n",
    "# NOTE: inference loop expects batch size that is <= img size / stride and \n",
    "# where img size / batch size is an integer\n",
    "BATCH_SIZE = IMG_SIZE // STRIDE\n",
    "NUM_WORKERS = 2"
   ]
  },
  {
   "cell_type": "code",
   "execution_count": 17,
   "metadata": {},
   "outputs": [],
   "source": [
    "USE_TISSUE_MASK = True"
   ]
  },
  {
   "cell_type": "code",
   "execution_count": 18,
   "metadata": {},
   "outputs": [],
   "source": [
    "if not os.path.exists(SAVE_PLAQ_DIR):\n",
    "    os.makedirs(SAVE_PLAQ_DIR)\n",
    "    \n",
    "if not os.path.exists(SAVE_IMG_DIR):\n",
    "        os.makedirs(SAVE_IMG_DIR)\n",
    "        \n",
    "if not os.path.exists(SAVE_NP_DIR):\n",
    "        os.makedirs(SAVE_NP_DIR)"
   ]
  },
  {
   "cell_type": "code",
   "execution_count": 19,
   "metadata": {},
   "outputs": [
    {
     "name": "stdout",
     "output_type": "stream",
     "text": [
      "['Q', 'QQ', 'QQQ', 'RR', 'RRR', 'S', 'SS', 'SSS', 'T', 'TT', 'TTT', 'U', 'UU', 'UUU']\n"
     ]
    }
   ],
   "source": [
    "# Retrieve Files\n",
    "filenames = glob.glob(TILE_DIR + '*')\n",
    "filenames = [filename.split('/')[-1] for filename in filenames]\n",
    "filenames = sorted(filenames)\n",
    "print(filenames)"
   ]
  },
  {
   "cell_type": "markdown",
   "metadata": {},
   "source": [
    "# Inference Pipeline"
   ]
  },
  {
   "cell_type": "code",
   "execution_count": 20,
   "metadata": {},
   "outputs": [],
   "source": [
    "def saveBrainSegImage(nums, save_dir) :\n",
    "    \"\"\"\n",
    "    Converts 2D array with {0,1,2} into RGB\n",
    "     to determine different segmentation areas\n",
    "     and saves image at given directory\n",
    "    \n",
    "    Input:\n",
    "       nums: 2D-NumPy Array containing classification\n",
    "       save_dir: string indicating save location\n",
    "    \"\"\" \n",
    "    \n",
    "    nums = np.repeat(nums[:,:, np.newaxis], 3, axis=2)\n",
    "    \n",
    "    # nums[:,:,0] = RED, nums[:,:,1] = Green, nums[:,:,2] = Blue\n",
    "    idx_1 = np.where(nums[:,:,0] == 1)  # Index of label 1 (WM)\n",
    "    idx_2 = np.where(nums[:,:,0] == 2)  # Index of label 2 (GM)\n",
    "\n",
    "    # For label 0, leave as black color\n",
    "    # For label 1, set to yellow color: R255G255B0 (WM)\n",
    "    nums[:,:,0].flat[np.ravel_multi_index(idx_1, nums[:,:,0].shape)] = 255\n",
    "    nums[:,:,1].flat[np.ravel_multi_index(idx_1, nums[:,:,1].shape)] = 255\n",
    "    nums[:,:,2].flat[np.ravel_multi_index(idx_1, nums[:,:,2].shape)] = 0\n",
    "    # For label 2, set to cyan color: R0G255B255 (GM)\n",
    "    nums[:,:,0].flat[np.ravel_multi_index(idx_2, nums[:,:,0].shape)] = 0\n",
    "    nums[:,:,1].flat[np.ravel_multi_index(idx_2, nums[:,:,1].shape)] = 255\n",
    "    nums[:,:,2].flat[np.ravel_multi_index(idx_2, nums[:,:,2].shape)] = 255\n",
    "\n",
    "    nums = nums.astype(np.uint8) # PIL save only accepts uint8 {0,..,255}\n",
    "    save_img = Image.fromarray(nums, 'RGB')\n",
    "    save_img.save(save_dir)\n",
    "    print(\"Saved at: \" + save_dir)\n",
    "    "
   ]
  },
  {
   "cell_type": "code",
   "execution_count": 21,
   "metadata": {},
   "outputs": [
    {
     "name": "stderr",
     "output_type": "stream",
     "text": [
      "/var/folders/vv/h0r8fh9j6mz7xx31k0zb32hr0000gn/T/ipykernel_78338/3424417327.py:18: FutureWarning: You are using `torch.load` with `weights_only=False` (the current default value), which uses the default pickle module implicitly. It is possible to construct malicious pickle data which will execute arbitrary code during unpickling (See https://github.com/pytorch/pytorch/blob/main/SECURITY.md#untrusted-models for more details). In a future release, the default value for `weights_only` will be flipped to `True`. This limits the functions that could be executed during unpickling. Arbitrary objects will no longer be allowed to be loaded via this mode unless they are explicitly allowlisted by the user via `torch.serialization.add_safe_globals`. We recommend you start setting `weights_only=True` for any use case where you don't have full control of the loaded file. Please open an issue on GitHub for any issues related to this experimental feature.\n",
      "  plaq_model = torch.load(MODEL_PLAQ_DIR, map_location=lambda storage, loc: storage)\n",
      "/Users/oliviashen/anaconda3/envs/brainsec/lib/python3.10/site-packages/torch/serialization.py:1189: SourceChangeWarning: source code of class 'torch.nn.parallel.data_parallel.DataParallel' has changed. you can retrieve the original source code by accessing the object's source attribute or set `torch.nn.Module.dump_patches = True` and use the patch tool to revert the changes.\n",
      "  warnings.warn(msg, SourceChangeWarning)\n",
      "/Users/oliviashen/anaconda3/envs/brainsec/lib/python3.10/site-packages/torch/serialization.py:1189: SourceChangeWarning: source code of class 'torch.nn.modules.container.Sequential' has changed. you can retrieve the original source code by accessing the object's source attribute or set `torch.nn.Module.dump_patches = True` and use the patch tool to revert the changes.\n",
      "  warnings.warn(msg, SourceChangeWarning)\n",
      "/Users/oliviashen/anaconda3/envs/brainsec/lib/python3.10/site-packages/torch/serialization.py:1189: SourceChangeWarning: source code of class 'torch.nn.modules.conv.Conv2d' has changed. you can retrieve the original source code by accessing the object's source attribute or set `torch.nn.Module.dump_patches = True` and use the patch tool to revert the changes.\n",
      "  warnings.warn(msg, SourceChangeWarning)\n",
      "/Users/oliviashen/anaconda3/envs/brainsec/lib/python3.10/site-packages/torch/serialization.py:1189: SourceChangeWarning: source code of class 'torch.nn.modules.dropout.Dropout2d' has changed. you can retrieve the original source code by accessing the object's source attribute or set `torch.nn.Module.dump_patches = True` and use the patch tool to revert the changes.\n",
      "  warnings.warn(msg, SourceChangeWarning)\n",
      "/Users/oliviashen/anaconda3/envs/brainsec/lib/python3.10/site-packages/torch/serialization.py:1189: SourceChangeWarning: source code of class 'torch.nn.modules.activation.ReLU' has changed. you can retrieve the original source code by accessing the object's source attribute or set `torch.nn.Module.dump_patches = True` and use the patch tool to revert the changes.\n",
      "  warnings.warn(msg, SourceChangeWarning)\n",
      "/Users/oliviashen/anaconda3/envs/brainsec/lib/python3.10/site-packages/torch/serialization.py:1189: SourceChangeWarning: source code of class 'torch.nn.modules.pooling.MaxPool2d' has changed. you can retrieve the original source code by accessing the object's source attribute or set `torch.nn.Module.dump_patches = True` and use the patch tool to revert the changes.\n",
      "  warnings.warn(msg, SourceChangeWarning)\n",
      "/Users/oliviashen/anaconda3/envs/brainsec/lib/python3.10/site-packages/torch/serialization.py:1189: SourceChangeWarning: source code of class 'torch.nn.modules.linear.Linear' has changed. you can retrieve the original source code by accessing the object's source attribute or set `torch.nn.Module.dump_patches = True` and use the patch tool to revert the changes.\n",
      "  warnings.warn(msg, SourceChangeWarning)\n",
      "/Users/oliviashen/anaconda3/envs/brainsec/lib/python3.10/site-packages/torch/serialization.py:1189: SourceChangeWarning: source code of class 'torch.nn.modules.dropout.Dropout' has changed. you can retrieve the original source code by accessing the object's source attribute or set `torch.nn.Module.dump_patches = True` and use the patch tool to revert the changes.\n",
      "  warnings.warn(msg, SourceChangeWarning)\n",
      "/var/folders/vv/h0r8fh9j6mz7xx31k0zb32hr0000gn/T/ipykernel_78338/3424417327.py:19: FutureWarning: You are using `torch.load` with `weights_only=False` (the current default value), which uses the default pickle module implicitly. It is possible to construct malicious pickle data which will execute arbitrary code during unpickling (See https://github.com/pytorch/pytorch/blob/main/SECURITY.md#untrusted-models for more details). In a future release, the default value for `weights_only` will be flipped to `True`. This limits the functions that could be executed during unpickling. Arbitrary objects will no longer be allowed to be loaded via this mode unless they are explicitly allowlisted by the user via `torch.serialization.add_safe_globals`. We recommend you start setting `weights_only=True` for any use case where you don't have full control of the loaded file. Please open an issue on GitHub for any issues related to this experimental feature.\n",
      "  seg_model = torch.load(MODEL_SEG_DIR, map_location=lambda storage, loc: storage)\n",
      "/Users/oliviashen/anaconda3/envs/brainsec/lib/python3.10/site-packages/torch/serialization.py:1189: SourceChangeWarning: source code of class 'torchvision.models.resnet.ResNet' has changed. you can retrieve the original source code by accessing the object's source attribute or set `torch.nn.Module.dump_patches = True` and use the patch tool to revert the changes.\n",
      "  warnings.warn(msg, SourceChangeWarning)\n",
      "/Users/oliviashen/anaconda3/envs/brainsec/lib/python3.10/site-packages/torch/serialization.py:1189: SourceChangeWarning: source code of class 'torch.nn.modules.batchnorm.BatchNorm2d' has changed. you can retrieve the original source code by accessing the object's source attribute or set `torch.nn.Module.dump_patches = True` and use the patch tool to revert the changes.\n",
      "  warnings.warn(msg, SourceChangeWarning)\n",
      "/Users/oliviashen/anaconda3/envs/brainsec/lib/python3.10/site-packages/torch/serialization.py:1189: SourceChangeWarning: source code of class 'torchvision.models.resnet.BasicBlock' has changed. you can retrieve the original source code by accessing the object's source attribute or set `torch.nn.Module.dump_patches = True` and use the patch tool to revert the changes.\n",
      "  warnings.warn(msg, SourceChangeWarning)\n",
      "/Users/oliviashen/anaconda3/envs/brainsec/lib/python3.10/site-packages/torch/serialization.py:1189: SourceChangeWarning: source code of class 'torch.nn.modules.pooling.AdaptiveAvgPool2d' has changed. you can retrieve the original source code by accessing the object's source attribute or set `torch.nn.Module.dump_patches = True` and use the patch tool to revert the changes.\n",
      "  warnings.warn(msg, SourceChangeWarning)\n"
     ]
    }
   ],
   "source": [
    "class Net(nn.Module):\n",
    "\n",
    "    def __init__(self, fc_nodes=512, num_classes=3, dropout=0.5):\n",
    "        super(Net, self).__init__()\n",
    "        \n",
    "    def forward(self, x):\n",
    " \n",
    "        x = self.features(x)\n",
    "        x = x.view(x.size(0), -1)\n",
    "        x = self.classifier(x)\n",
    "\n",
    "        return x\n",
    "\n",
    "# Check GPU:\n",
    "use_gpu = torch.cuda.is_available()\n",
    "\n",
    "# instatiate the model\n",
    "plaq_model = torch.load(MODEL_PLAQ_DIR, map_location=lambda storage, loc: storage)\n",
    "seg_model = torch.load(MODEL_SEG_DIR, map_location=lambda storage, loc: storage)\n",
    "\n",
    "if use_gpu:\n",
    "    seg_model = seg_model.cuda() # Segmentation\n",
    "    plaq_model = plaq_model.module.cuda() # Plaquebox-paper\n",
    "else:\n",
    "    seg_model = seg_model\n",
    "    plaq_model = plaq_model.module"
   ]
  },
  {
   "cell_type": "code",
   "execution_count": 22,
   "metadata": {},
   "outputs": [
    {
     "name": "stdout",
     "output_type": "stream",
     "text": [
      "11178051\n",
      "6424403\n",
      "model size: 42.678MB\n",
      "model size: 24.507MB\n"
     ]
    }
   ],
   "source": [
    "print(sum(p.numel() for p in seg_model.parameters()))\n",
    "print(sum(p.numel() for p in plaq_model.parameters()))\n",
    "\n",
    "def get_model_size_mb(model):\n",
    "    param_size = 0\n",
    "    for param in model.parameters():\n",
    "        param_size += param.nelement() * param.element_size()\n",
    "    buffer_size = 0\n",
    "    for buffer in model.buffers():\n",
    "        buffer_size += buffer.nelement() * buffer.element_size()\n",
    "\n",
    "    size_all_mb = (param_size + buffer_size) / 1024**2\n",
    "    print('model size: {:.3f}MB'.format(size_all_mb))\n",
    "\n",
    "get_model_size_mb(seg_model)\n",
    "get_model_size_mb(plaq_model)"
   ]
  },
  {
   "cell_type": "markdown",
   "metadata": {},
   "source": [
    "Only process the first 2 files to test."
   ]
  },
  {
   "cell_type": "code",
   "execution_count": 23,
   "metadata": {},
   "outputs": [],
   "source": [
    "filenames = filenames[0:2]"
   ]
  },
  {
   "cell_type": "code",
   "execution_count": 24,
   "metadata": {},
   "outputs": [
    {
     "name": "stdout",
     "output_type": "stream",
     "text": [
      "Now processing:  Q\n",
      "Tile (3,7)\n",
      "No tissue. Skipping.\n",
      "Tile (3,8)\n",
      "No tissue. Skipping.\n",
      "Tile (3,9)\n",
      "Contains tissue.\n"
     ]
    },
    {
     "name": "stderr",
     "output_type": "stream",
     "text": [
      "/var/folders/vv/h0r8fh9j6mz7xx31k0zb32hr0000gn/T/ipykernel_78338/3024884996.py:63: DeprecationWarning: __array__ implementation doesn't accept a copy keyword, so passing copy=False failed. __array__ must implement 'dtype' and 'copy' keyword arguments.\n",
      "  output_class[i,j*BATCH_SIZE:(j+1)*BATCH_SIZE] = t_preds.data\n"
     ]
    },
    {
     "name": "stdout",
     "output_type": "stream",
     "text": [
      "Tile (4,7)\n",
      "No tissue. Skipping.\n",
      "Tile (4,8)\n",
      "Contains tissue.\n",
      "Tile (4,9)\n",
      "Contains tissue.\n",
      "Saved at: brainsec_outputs/images/Q.png\n",
      "Time to process Q:  37.37456087511964 sec\n",
      "Now processing:  QQ\n",
      "Tile (3,7)\n",
      "No tissue. Skipping.\n",
      "Tile (3,8)\n",
      "No tissue. Skipping.\n",
      "Tile (3,9)\n",
      "No tissue. Skipping.\n",
      "Tile (4,7)\n",
      "No tissue. Skipping.\n",
      "Tile (4,8)\n",
      "No tissue. Skipping.\n",
      "Tile (4,9)\n",
      "No tissue. Skipping.\n",
      "Saved at: brainsec_outputs/images/QQ.png\n",
      "Time to process QQ:  0.054640459129586816 sec\n"
     ]
    }
   ],
   "source": [
    "import time\n",
    "# Inference Loop:\n",
    "\n",
    "for slidename in filenames:\n",
    "    print(\"Now processing: \", slidename)\n",
    "    # Read tissue presence map into list\n",
    "    with open(os.path.join(TILE_DIR, slidename, TISSUE_PRESENCE_FILE), newline='') as f:\n",
    "        tissue_is_present = list(csv.reader(f, quoting=csv.QUOTE_NONNUMERIC))\n",
    "\n",
    "    row_nums = (len(tissue_is_present))\n",
    "    col_nums = len(tissue_is_present[0])   \n",
    "    \n",
    "    # Initialize outputs accordingly:\n",
    "    heatmap_res = IMG_SIZE // STRIDE\n",
    "    plaque_output = np.zeros((3, heatmap_res*row_nums, heatmap_res*col_nums))\n",
    "    seg_output = np.zeros((heatmap_res*row_nums, heatmap_res*col_nums), dtype=np.uint8)\n",
    "\n",
    "    # set models to evaluation mode\n",
    "    plaq_model.eval()\n",
    "    seg_model.eval()\n",
    "\n",
    "    start_time = time.perf_counter() # To evaluate Time taken per inference\n",
    "\n",
    "    if DEBUG:\n",
    "        row_range = [3, 4]\n",
    "        col_range = [7, 8, 9]\n",
    "    else:\n",
    "        row_range = range(row_nums)\n",
    "        col_range = range(col_nums)\n",
    "\n",
    "    with torch.no_grad():\n",
    "        for row in row_range:\n",
    "            for col in col_range:\n",
    "                print(f\"Tile ({row},{col})\")\n",
    "                # if tile has no tissue, skip\n",
    "                if USE_TISSUE_MASK and not tissue_is_present[row][col]:\n",
    "                    print(\"No tissue. Skipping.\")\n",
    "                    continue\n",
    "                print(\"Contains tissue.\")\n",
    "                # Load tile with padding into dataset\n",
    "                image_datasets = HeatmapDataset(os.path.join(TILE_DIR, slidename, '0'), row, col, stride=STRIDE)\n",
    "                dataloader = torch.utils.data.DataLoader(image_datasets, batch_size=BATCH_SIZE,\n",
    "                                                        shuffle=False, num_workers=NUM_WORKERS)\n",
    "                \n",
    "                running_plaques = torch.Tensor(0)\n",
    "                # create numpy array of heatmap\n",
    "                output_class = np.zeros((heatmap_res, heatmap_res), dtype=np.uint8)\n",
    "                \n",
    "                for idx, data in enumerate(dataloader):\n",
    "                    # get the inputs\n",
    "                    inputs = data\n",
    "                    # forward (Plaque Detection) :\n",
    "                    p_out = plaq_model(inputs)\n",
    "                    p_preds = torch.nn.functional.sigmoid(p_out) # Posibility for each class = [0,1]\n",
    "                    running_plaques = torch.cat([running_plaques, p_preds])\n",
    "                    \n",
    "                    # forward (BrainSeg) :\n",
    "                    t_out = seg_model(inputs)\n",
    "                    _, t_preds = torch.max(t_out.data, 1) # indices = 0:Background, 1:WM, 2:GM\n",
    "\n",
    "                    i = (idx // (heatmap_res//BATCH_SIZE))\n",
    "                    j = (idx % (heatmap_res//BATCH_SIZE))\n",
    "                    output_class[i,j*BATCH_SIZE:(j+1)*BATCH_SIZE] = t_preds.data\n",
    "            \n",
    "                # Final Outputs of Brain Segmentation\n",
    "                seg_output[row*heatmap_res:(row+1)*heatmap_res, col*heatmap_res:(col+1)*heatmap_res] = output_class\n",
    "                \n",
    "                # Final Outputs of Plaque Detection:\n",
    "                cored = np.asarray(running_plaques[:,0]).reshape(IMG_SIZE//STRIDE,IMG_SIZE//STRIDE)\n",
    "                diffuse = np.asarray(running_plaques[:,1]).reshape(IMG_SIZE//STRIDE,IMG_SIZE//STRIDE)\n",
    "                caa = np.asarray(running_plaques[:,2]).reshape(IMG_SIZE//STRIDE,IMG_SIZE//STRIDE)\n",
    "                \n",
    "                plaque_output[0, row*heatmap_res:(row+1)*heatmap_res, col*heatmap_res:(col+1)*heatmap_res] = cored\n",
    "                plaque_output[1, row*heatmap_res:(row+1)*heatmap_res, col*heatmap_res:(col+1)*heatmap_res] = diffuse\n",
    "                plaque_output[2, row*heatmap_res:(row+1)*heatmap_res, col*heatmap_res:(col+1)*heatmap_res] = caa\n",
    "\n",
    "                seg_output[row*heatmap_res:(row+1)*heatmap_res, col*heatmap_res:(col+1)*heatmap_res] = output_class\n",
    "\n",
    "    # Saving Confidence=[0,1] for Plaque Detection\n",
    "    np.save(os.path.join(SAVE_PLAQ_DIR, slidename), plaque_output)\n",
    "    \n",
    "    # Saving BrainSeg Classification={0,1,2}\n",
    "    np.save(os.path.join(SAVE_NP_DIR, slidename), seg_output)\n",
    "    saveBrainSegImage(seg_output, os.path.join(SAVE_IMG_DIR, slidename + '.png'))\n",
    "    \n",
    "    # Time Statistics for Inference\n",
    "    end_time = time.perf_counter()\n",
    "    print(\"Time to process \" + slidename + \": \", end_time-start_time, \"sec\")"
   ]
  },
  {
   "cell_type": "code",
   "execution_count": 25,
   "metadata": {},
   "outputs": [],
   "source": [
    "def plot_heatmap(final_output) :\n",
    "    \"\"\"\n",
    "    Plots Confidence Heatmap of Plaques = [0,1]\n",
    "    \n",
    "    Inputs:\n",
    "        final_output (NumPy array of \n",
    "        3*img_height*height_width) :\n",
    "            Contains Plaque Confidence with each axis\n",
    "            representing different types of plaque\n",
    "            \n",
    "    Outputs:\n",
    "        Subplots containing Plaque Confidences\n",
    "    \"\"\"\n",
    "    fig = plt.figure(figsize=(12, 8))\n",
    "\n",
    "    ax = fig.add_subplot(221)\n",
    "    ax.set_title('cored')\n",
    "\n",
    "    im = ax.imshow(final_output[0], cmap=plt.cm.get_cmap('viridis', 20), vmin=0, vmax=1)\n",
    "    divider = make_axes_locatable(ax)\n",
    "    cax = divider.append_axes(\"right\", size=\"5%\", pad=0.1)\n",
    "    plt.colorbar(im, cax=cax, ticks=[0.0, 0.25, 0.5, 0.75, 1.0])\n",
    "\n",
    "    ax = fig.add_subplot(222)\n",
    "    ax.set_title('diffuse')\n",
    "\n",
    "    im = ax.imshow(final_output[1], cmap=plt.cm.get_cmap('viridis', 20), vmin=0, vmax=1)\n",
    "    divider = make_axes_locatable(ax)\n",
    "    cax = divider.append_axes(\"right\", size=\"5%\", pad=0.1)\n",
    "    plt.colorbar(im, cax=cax, ticks=[0.0, 0.25, 0.5, 0.75, 1.0])\n",
    "\n",
    "    ax = fig.add_subplot(223)\n",
    "    ax.set_title('CAA')\n",
    "    im = ax.imshow(final_output[2], cmap=plt.cm.get_cmap('viridis', 20), vmin=0, vmax=1)\n",
    "    divider = make_axes_locatable(ax)\n",
    "    cax = divider.append_axes(\"right\", size=\"5%\", pad=0.1)\n",
    "    plt.colorbar(im, cax=cax, ticks=[0.0, 0.25, 0.5, 0.75, 1.0])"
   ]
  },
  {
   "cell_type": "code",
   "execution_count": 26,
   "metadata": {},
   "outputs": [
    {
     "data": {
      "image/jpeg": "[encoded data removed]",
      "image/png": "[encoded data removed]",
      "text/plain": [
       "<PIL.PngImagePlugin.PngImageFile image mode=RGB size=384x288>"
      ]
     },
     "metadata": {},
     "output_type": "display_data"
    }
   ],
   "source": [
    "from IPython.display import display\n",
    "tissue_seg_img = Image.open(os.path.join(SAVE_IMG_DIR, \"Q.png\"))\n",
    "display(tissue_seg_img)"
   ]
  },
  {
   "cell_type": "code",
   "execution_count": 27,
   "metadata": {},
   "outputs": [
    {
     "name": "stderr",
     "output_type": "stream",
     "text": [
      "/var/folders/vv/h0r8fh9j6mz7xx31k0zb32hr0000gn/T/ipykernel_78338/1405840043.py:19: MatplotlibDeprecationWarning: The get_cmap function was deprecated in Matplotlib 3.7 and will be removed in 3.11. Use ``matplotlib.colormaps[name]`` or ``matplotlib.colormaps.get_cmap()`` or ``pyplot.get_cmap()`` instead.\n",
      "  im = ax.imshow(final_output[0], cmap=plt.cm.get_cmap('viridis', 20), vmin=0, vmax=1)\n",
      "/var/folders/vv/h0r8fh9j6mz7xx31k0zb32hr0000gn/T/ipykernel_78338/1405840043.py:27: MatplotlibDeprecationWarning: The get_cmap function was deprecated in Matplotlib 3.7 and will be removed in 3.11. Use ``matplotlib.colormaps[name]`` or ``matplotlib.colormaps.get_cmap()`` or ``pyplot.get_cmap()`` instead.\n",
      "  im = ax.imshow(final_output[1], cmap=plt.cm.get_cmap('viridis', 20), vmin=0, vmax=1)\n",
      "/var/folders/vv/h0r8fh9j6mz7xx31k0zb32hr0000gn/T/ipykernel_78338/1405840043.py:34: MatplotlibDeprecationWarning: The get_cmap function was deprecated in Matplotlib 3.7 and will be removed in 3.11. Use ``matplotlib.colormaps[name]`` or ``matplotlib.colormaps.get_cmap()`` or ``pyplot.get_cmap()`` instead.\n",
      "  im = ax.imshow(final_output[2], cmap=plt.cm.get_cmap('viridis', 20), vmin=0, vmax=1)\n"
     ]
    },
    {
     "data": {
      "image/png": "[encoded data removed]",
      "text/plain": [
       "<Figure size 1200x800 with 6 Axes>"
      ]
     },
     "metadata": {},
     "output_type": "display_data"
    }
   ],
   "source": [
    "plaque_output = np.load(SAVE_PLAQ_DIR + 'Q.npy')\n",
    "plot_heatmap(plaque_output)"
   ]
  },
  {
   "cell_type": "markdown",
   "metadata": {},
   "source": [
    "# Post Processing"
   ]
  },
  {
   "cell_type": "markdown",
   "metadata": {},
   "source": []
  }
 ],
 "metadata": {
  "kernelspec": {
   "display_name": "brainsec",
   "language": "python",
   "name": "python3"
  },
  "language_info": {
   "codemirror_mode": {
    "name": "ipython",
    "version": 3
   },
   "file_extension": ".py",
   "mimetype": "text/x-python",
   "name": "python",
   "nbconvert_exporter": "python",
   "pygments_lexer": "ipython3",
   "version": "3.10.15"
  }
 },
 "nbformat": 4,
 "nbformat_minor": 2
}
